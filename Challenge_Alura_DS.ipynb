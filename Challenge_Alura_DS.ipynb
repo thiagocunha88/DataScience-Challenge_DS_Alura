{
 "cells": [
  {
   "cell_type": "markdown",
   "id": "5148692c",
   "metadata": {
    "colab_type": "text",
    "id": "view-in-github"
   },
   "source": [
    "<a href=\"https://colab.research.google.com/github/thiagocunha88/DataScience-Challenge_DS_Alura/blob/master/Challenge_Alura_DS.ipynb\" target=\"_parent\"><img src=\"https://colab.research.google.com/assets/colab-badge.svg\" alt=\"Open In Colab\"/></a>"
   ]
  },
  {
   "cell_type": "markdown",
   "id": "54837920",
   "metadata": {
    "id": "54837920"
   },
   "source": [
    "# Challenge Alura - Reduzir a taxa de evasão dos clientes (Churn Rate)\n",
    "## Analisar os clientes para identificar um padrão que determine aqueles que possuem maior chance de deixar de consumir o serviço, ou deixar de ser cliente da empresa\n",
    "\n",
    "## Para iniciar os estudos, inicia-se a importação das bibliotecas básicas para tal e o dataset a ser analisado, entendendo que o primeiro passo é entender os dados a serem utilizados."
   ]
  },
  {
   "cell_type": "markdown",
   "id": "7c4cd230",
   "metadata": {
    "id": "7c4cd230"
   },
   "source": [
    "### Importando bibliotecas"
   ]
  },
  {
   "cell_type": "markdown",
   "id": "ccd52841",
   "metadata": {
    "id": "ccd52841"
   },
   "source": [
    "Para iniciar uma análise exploratória é necessário transformar e visualizar os dados.\n",
    "\n",
    "Foram selecionadas duas bibliotecas muito comuns e de bom desempenho para isto, o pandas e numpy.\n",
    "\n",
    "Posteriormente serão importadas outras bibliotecas, principalmente quando forem geradas visualizações gráficas, mas isso pode aguardar."
   ]
  },
  {
   "cell_type": "code",
   "execution_count": 1,
   "id": "f9716637",
   "metadata": {},
   "outputs": [],
   "source": [
    "#!pip install plotly"
   ]
  },
  {
   "cell_type": "code",
   "execution_count": 2,
   "id": "76d58795",
   "metadata": {
    "id": "76d58795"
   },
   "outputs": [],
   "source": [
    "import pandas as pd\n",
    "import numpy as np\n",
    "\n",
    "\n",
    "# Para visualização no Jupyter Notebook, utilizar a configuração abaixo, após efetuar a instalação do plotly\n",
    "# pois torna os gráficos gerados no pandas interativos.\n",
    "# Para melhor visualização no Github, vou deixar comentado.\n",
    "# pd.options.plotting.backend = 'plotly'"
   ]
  },
  {
   "cell_type": "markdown",
   "id": "e63bb663",
   "metadata": {
    "id": "e63bb663"
   },
   "source": [
    "### Importando o dataset e tendo a primeira visualização"
   ]
  },
  {
   "cell_type": "markdown",
   "id": "caf2bd9c",
   "metadata": {
    "id": "caf2bd9c"
   },
   "source": [
    "Como a base dados a ser estudada está em formato json, optei por utilizar o pd.read_json() para fazer a leitura, principalmente porque apresenta os dados em formato tabular, facilitando as primeiras impressões e possibilitando nortear os próximos passos."
   ]
  },
  {
   "cell_type": "code",
   "execution_count": 3,
   "id": "cfe01b73",
   "metadata": {
    "colab": {
     "base_uri": "https://localhost:8080/",
     "height": 112
    },
    "id": "cfe01b73",
    "outputId": "ac7a441b-4f9b-483a-f86a-2ad51bf3af02",
    "scrolled": true
   },
   "outputs": [
    {
     "data": {
      "text/html": [
       "<div>\n",
       "<style scoped>\n",
       "    .dataframe tbody tr th:only-of-type {\n",
       "        vertical-align: middle;\n",
       "    }\n",
       "\n",
       "    .dataframe tbody tr th {\n",
       "        vertical-align: top;\n",
       "    }\n",
       "\n",
       "    .dataframe thead th {\n",
       "        text-align: right;\n",
       "    }\n",
       "</style>\n",
       "<table border=\"1\" class=\"dataframe\">\n",
       "  <thead>\n",
       "    <tr style=\"text-align: right;\">\n",
       "      <th></th>\n",
       "      <th>customerID</th>\n",
       "      <th>Churn</th>\n",
       "      <th>customer</th>\n",
       "      <th>phone</th>\n",
       "      <th>internet</th>\n",
       "      <th>account</th>\n",
       "    </tr>\n",
       "  </thead>\n",
       "  <tbody>\n",
       "    <tr>\n",
       "      <th>0</th>\n",
       "      <td>0002-ORFBO</td>\n",
       "      <td>No</td>\n",
       "      <td>{'gender': 'Female', 'SeniorCitizen': 0, 'Part...</td>\n",
       "      <td>{'PhoneService': 'Yes', 'MultipleLines': 'No'}</td>\n",
       "      <td>{'InternetService': 'DSL', 'OnlineSecurity': '...</td>\n",
       "      <td>{'Contract': 'One year', 'PaperlessBilling': '...</td>\n",
       "    </tr>\n",
       "    <tr>\n",
       "      <th>1</th>\n",
       "      <td>0003-MKNFE</td>\n",
       "      <td>No</td>\n",
       "      <td>{'gender': 'Male', 'SeniorCitizen': 0, 'Partne...</td>\n",
       "      <td>{'PhoneService': 'Yes', 'MultipleLines': 'Yes'}</td>\n",
       "      <td>{'InternetService': 'DSL', 'OnlineSecurity': '...</td>\n",
       "      <td>{'Contract': 'Month-to-month', 'PaperlessBilli...</td>\n",
       "    </tr>\n",
       "  </tbody>\n",
       "</table>\n",
       "</div>"
      ],
      "text/plain": [
       "   customerID Churn                                           customer  \\\n",
       "0  0002-ORFBO    No  {'gender': 'Female', 'SeniorCitizen': 0, 'Part...   \n",
       "1  0003-MKNFE    No  {'gender': 'Male', 'SeniorCitizen': 0, 'Partne...   \n",
       "\n",
       "                                             phone  \\\n",
       "0   {'PhoneService': 'Yes', 'MultipleLines': 'No'}   \n",
       "1  {'PhoneService': 'Yes', 'MultipleLines': 'Yes'}   \n",
       "\n",
       "                                            internet  \\\n",
       "0  {'InternetService': 'DSL', 'OnlineSecurity': '...   \n",
       "1  {'InternetService': 'DSL', 'OnlineSecurity': '...   \n",
       "\n",
       "                                             account  \n",
       "0  {'Contract': 'One year', 'PaperlessBilling': '...  \n",
       "1  {'Contract': 'Month-to-month', 'PaperlessBilli...  "
      ]
     },
     "metadata": {},
     "output_type": "display_data"
    }
   ],
   "source": [
    "df = pd.read_json('https://raw.githubusercontent.com/sthemonica/alura-voz/main/Dados/Telco-Customer-Churn.json')\n",
    "display(df.head(2))"
   ]
  },
  {
   "cell_type": "markdown",
   "id": "e136140d",
   "metadata": {
    "id": "e136140d"
   },
   "source": [
    "Os dados importados geraram uma tabela, porém, a mesma apresenta colunas ainda em formato json, dificultando o entendimento e impossibilitando análises estatísticas básicas de maneira simples.\n",
    "\n",
    "Sendo assim, será necessário iniciar a transformação dos dados."
   ]
  },
  {
   "cell_type": "markdown",
   "id": "b1b09dc5",
   "metadata": {
    "id": "b1b09dc5"
   },
   "source": [
    "### Transformando os dados de json para dataframe pandas."
   ]
  },
  {
   "cell_type": "markdown",
   "id": "980f001c",
   "metadata": {
    "id": "980f001c"
   },
   "source": [
    "Todas as colunas a partir da Churn estavam em formato json ainda, dificultando a visualização completa bem como cálculos e análises a serem realizados.\n",
    "\n",
    "Foi efetuada a conversão dos dados, primeiramente, criando dataframes separados para cada coluna a ser tratada (customer, phone, internet e account), utilizando a função pd.json_normalize().\n",
    "\n",
    "Na coluna account foi necessário uma atenção maior, já que havia uma cadeia de json (Charges), situação que foi tratada pela função pd.json_normalize()."
   ]
  },
  {
   "cell_type": "code",
   "execution_count": 4,
   "id": "143e7cdd",
   "metadata": {
    "id": "143e7cdd"
   },
   "outputs": [],
   "source": [
    "# Separando valores que estão em formato json, e retornando para o dataframe\n",
    "customer = pd.json_normalize(df.customer)\n",
    "phone = pd.json_normalize(df.phone)\n",
    "internet = pd.json_normalize(df.internet)\n",
    "account = pd.json_normalize(df.account)\n",
    "df_base = pd.concat([df.customerID, df.Churn, customer, phone, internet, account], axis = 1)"
   ]
  },
  {
   "cell_type": "markdown",
   "id": "64ef344e",
   "metadata": {
    "id": "64ef344e"
   },
   "source": [
    "### Fazendo a tradução dos cabeçalhos"
   ]
  },
  {
   "cell_type": "markdown",
   "id": "ed5200f4",
   "metadata": {
    "id": "ed5200f4"
   },
   "source": [
    "A base de dados está toda em inglês, e para facilitar o entendimento do que cada coluna significa, foi efetuada a tradução das mesmas.\n",
    "\n",
    "Posteriormente será analisada a necessidade de traduzir também os outros dados do dataset."
   ]
  },
  {
   "cell_type": "code",
   "execution_count": 5,
   "id": "026274e5",
   "metadata": {
    "colab": {
     "base_uri": "https://localhost:8080/",
     "height": 386
    },
    "id": "026274e5",
    "outputId": "09c44e7e-5fd5-4028-e7c8-970d736915b8",
    "scrolled": true
   },
   "outputs": [
    {
     "data": {
      "text/html": [
       "<div>\n",
       "<style scoped>\n",
       "    .dataframe tbody tr th:only-of-type {\n",
       "        vertical-align: middle;\n",
       "    }\n",
       "\n",
       "    .dataframe tbody tr th {\n",
       "        vertical-align: top;\n",
       "    }\n",
       "\n",
       "    .dataframe thead th {\n",
       "        text-align: right;\n",
       "    }\n",
       "</style>\n",
       "<table border=\"1\" class=\"dataframe\">\n",
       "  <thead>\n",
       "    <tr style=\"text-align: right;\">\n",
       "      <th></th>\n",
       "      <th>clienteID</th>\n",
       "      <th>Churn</th>\n",
       "      <th>genero_cliente</th>\n",
       "      <th>mais_que_65_anos</th>\n",
       "      <th>possui_parceiro_a</th>\n",
       "      <th>possui_dependentes</th>\n",
       "      <th>meses_contrato</th>\n",
       "      <th>servico_telefonico</th>\n",
       "      <th>multiplas_linhas</th>\n",
       "      <th>servico_internet</th>\n",
       "      <th>...</th>\n",
       "      <th>assinatura_backup</th>\n",
       "      <th>assinatura_protecao_dispositivo</th>\n",
       "      <th>assinatura_suporte</th>\n",
       "      <th>assinatura_TV</th>\n",
       "      <th>assinatura_streaming</th>\n",
       "      <th>contrato</th>\n",
       "      <th>fatura_digital</th>\n",
       "      <th>forma_pagamento</th>\n",
       "      <th>total_servicos_mes</th>\n",
       "      <th>total_gasto</th>\n",
       "    </tr>\n",
       "  </thead>\n",
       "  <tbody>\n",
       "    <tr>\n",
       "      <th>0</th>\n",
       "      <td>0002-ORFBO</td>\n",
       "      <td>No</td>\n",
       "      <td>Female</td>\n",
       "      <td>0</td>\n",
       "      <td>Yes</td>\n",
       "      <td>Yes</td>\n",
       "      <td>9</td>\n",
       "      <td>Yes</td>\n",
       "      <td>No</td>\n",
       "      <td>DSL</td>\n",
       "      <td>...</td>\n",
       "      <td>Yes</td>\n",
       "      <td>No</td>\n",
       "      <td>Yes</td>\n",
       "      <td>Yes</td>\n",
       "      <td>No</td>\n",
       "      <td>One year</td>\n",
       "      <td>Yes</td>\n",
       "      <td>Mailed check</td>\n",
       "      <td>65.6</td>\n",
       "      <td>593.3</td>\n",
       "    </tr>\n",
       "    <tr>\n",
       "      <th>1</th>\n",
       "      <td>0003-MKNFE</td>\n",
       "      <td>No</td>\n",
       "      <td>Male</td>\n",
       "      <td>0</td>\n",
       "      <td>No</td>\n",
       "      <td>No</td>\n",
       "      <td>9</td>\n",
       "      <td>Yes</td>\n",
       "      <td>Yes</td>\n",
       "      <td>DSL</td>\n",
       "      <td>...</td>\n",
       "      <td>No</td>\n",
       "      <td>No</td>\n",
       "      <td>No</td>\n",
       "      <td>No</td>\n",
       "      <td>Yes</td>\n",
       "      <td>Month-to-month</td>\n",
       "      <td>No</td>\n",
       "      <td>Mailed check</td>\n",
       "      <td>59.9</td>\n",
       "      <td>542.4</td>\n",
       "    </tr>\n",
       "    <tr>\n",
       "      <th>2</th>\n",
       "      <td>0004-TLHLJ</td>\n",
       "      <td>Yes</td>\n",
       "      <td>Male</td>\n",
       "      <td>0</td>\n",
       "      <td>No</td>\n",
       "      <td>No</td>\n",
       "      <td>4</td>\n",
       "      <td>Yes</td>\n",
       "      <td>No</td>\n",
       "      <td>Fiber optic</td>\n",
       "      <td>...</td>\n",
       "      <td>No</td>\n",
       "      <td>Yes</td>\n",
       "      <td>No</td>\n",
       "      <td>No</td>\n",
       "      <td>No</td>\n",
       "      <td>Month-to-month</td>\n",
       "      <td>Yes</td>\n",
       "      <td>Electronic check</td>\n",
       "      <td>73.9</td>\n",
       "      <td>280.85</td>\n",
       "    </tr>\n",
       "    <tr>\n",
       "      <th>3</th>\n",
       "      <td>0011-IGKFF</td>\n",
       "      <td>Yes</td>\n",
       "      <td>Male</td>\n",
       "      <td>1</td>\n",
       "      <td>Yes</td>\n",
       "      <td>No</td>\n",
       "      <td>13</td>\n",
       "      <td>Yes</td>\n",
       "      <td>No</td>\n",
       "      <td>Fiber optic</td>\n",
       "      <td>...</td>\n",
       "      <td>Yes</td>\n",
       "      <td>Yes</td>\n",
       "      <td>No</td>\n",
       "      <td>Yes</td>\n",
       "      <td>Yes</td>\n",
       "      <td>Month-to-month</td>\n",
       "      <td>Yes</td>\n",
       "      <td>Electronic check</td>\n",
       "      <td>98.0</td>\n",
       "      <td>1237.85</td>\n",
       "    </tr>\n",
       "    <tr>\n",
       "      <th>4</th>\n",
       "      <td>0013-EXCHZ</td>\n",
       "      <td>Yes</td>\n",
       "      <td>Female</td>\n",
       "      <td>1</td>\n",
       "      <td>Yes</td>\n",
       "      <td>No</td>\n",
       "      <td>3</td>\n",
       "      <td>Yes</td>\n",
       "      <td>No</td>\n",
       "      <td>Fiber optic</td>\n",
       "      <td>...</td>\n",
       "      <td>No</td>\n",
       "      <td>No</td>\n",
       "      <td>Yes</td>\n",
       "      <td>Yes</td>\n",
       "      <td>No</td>\n",
       "      <td>Month-to-month</td>\n",
       "      <td>Yes</td>\n",
       "      <td>Mailed check</td>\n",
       "      <td>83.9</td>\n",
       "      <td>267.4</td>\n",
       "    </tr>\n",
       "  </tbody>\n",
       "</table>\n",
       "<p>5 rows × 21 columns</p>\n",
       "</div>"
      ],
      "text/plain": [
       "    clienteID Churn genero_cliente  mais_que_65_anos possui_parceiro_a  \\\n",
       "0  0002-ORFBO    No         Female                 0               Yes   \n",
       "1  0003-MKNFE    No           Male                 0                No   \n",
       "2  0004-TLHLJ   Yes           Male                 0                No   \n",
       "3  0011-IGKFF   Yes           Male                 1               Yes   \n",
       "4  0013-EXCHZ   Yes         Female                 1               Yes   \n",
       "\n",
       "  possui_dependentes  meses_contrato servico_telefonico multiplas_linhas  \\\n",
       "0                Yes               9                Yes               No   \n",
       "1                 No               9                Yes              Yes   \n",
       "2                 No               4                Yes               No   \n",
       "3                 No              13                Yes               No   \n",
       "4                 No               3                Yes               No   \n",
       "\n",
       "  servico_internet  ... assinatura_backup assinatura_protecao_dispositivo  \\\n",
       "0              DSL  ...               Yes                              No   \n",
       "1              DSL  ...                No                              No   \n",
       "2      Fiber optic  ...                No                             Yes   \n",
       "3      Fiber optic  ...               Yes                             Yes   \n",
       "4      Fiber optic  ...                No                              No   \n",
       "\n",
       "  assinatura_suporte assinatura_TV assinatura_streaming        contrato  \\\n",
       "0                Yes           Yes                   No        One year   \n",
       "1                 No            No                  Yes  Month-to-month   \n",
       "2                 No            No                   No  Month-to-month   \n",
       "3                 No           Yes                  Yes  Month-to-month   \n",
       "4                Yes           Yes                   No  Month-to-month   \n",
       "\n",
       "  fatura_digital   forma_pagamento total_servicos_mes  total_gasto  \n",
       "0            Yes      Mailed check               65.6        593.3  \n",
       "1             No      Mailed check               59.9        542.4  \n",
       "2            Yes  Electronic check               73.9       280.85  \n",
       "3            Yes  Electronic check               98.0      1237.85  \n",
       "4            Yes      Mailed check               83.9        267.4  \n",
       "\n",
       "[5 rows x 21 columns]"
      ]
     },
     "execution_count": 5,
     "metadata": {},
     "output_type": "execute_result"
    }
   ],
   "source": [
    "# Traduzindo nomes das colunas manualmente\n",
    "df_base.columns = ['clienteID', \n",
    "                   'Churn', \n",
    "                   'genero_cliente', \n",
    "                   'mais_que_65_anos', \n",
    "                   'possui_parceiro_a', \n",
    "                  'possui_dependentes', \n",
    "                  'meses_contrato',\n",
    "                  'servico_telefonico',\n",
    "                  'multiplas_linhas',\n",
    "                  'servico_internet',\n",
    "                  'assinatura_seguranca',\n",
    "                  'assinatura_backup',\n",
    "                  'assinatura_protecao_dispositivo',\n",
    "                  'assinatura_suporte',\n",
    "                  'assinatura_TV',\n",
    "                  'assinatura_streaming',\n",
    "                  'contrato',\n",
    "                  'fatura_digital',\n",
    "                  'forma_pagamento',\n",
    "                  'total_servicos_mes',\n",
    "                  'total_gasto']\n",
    "\n",
    "df_base.head()"
   ]
  },
  {
   "cell_type": "markdown",
   "id": "4be22181",
   "metadata": {},
   "source": [
    "### Iniciando análise dos dados do dataset"
   ]
  },
  {
   "cell_type": "markdown",
   "id": "29a1e632",
   "metadata": {
    "id": "29a1e632"
   },
   "source": [
    "Agora que foi possível entender do que se trata cada coluna é importante verificar se os dados existentes nelas são consistentes e possibilitam efetuar análises.\n",
    "\n",
    "Primeiramente é necessário verificar se há dados faltantes, e se eles impossibilitarão análises posterior.\n",
    "\n",
    "O pandas tem a função .info() que retorna os tipos de cada coluna, além de informar se há dados nulos nelas."
   ]
  },
  {
   "cell_type": "code",
   "execution_count": 6,
   "id": "3a02cc36",
   "metadata": {
    "colab": {
     "base_uri": "https://localhost:8080/"
    },
    "id": "3a02cc36",
    "outputId": "5de04fe5-4c32-4cf0-bac7-50bbe8dd6e4b"
   },
   "outputs": [
    {
     "name": "stdout",
     "output_type": "stream",
     "text": [
      "<class 'pandas.core.frame.DataFrame'>\n",
      "RangeIndex: 7267 entries, 0 to 7266\n",
      "Data columns (total 21 columns):\n",
      " #   Column                           Non-Null Count  Dtype  \n",
      "---  ------                           --------------  -----  \n",
      " 0   clienteID                        7267 non-null   object \n",
      " 1   Churn                            7267 non-null   object \n",
      " 2   genero_cliente                   7267 non-null   object \n",
      " 3   mais_que_65_anos                 7267 non-null   int64  \n",
      " 4   possui_parceiro_a                7267 non-null   object \n",
      " 5   possui_dependentes               7267 non-null   object \n",
      " 6   meses_contrato                   7267 non-null   int64  \n",
      " 7   servico_telefonico               7267 non-null   object \n",
      " 8   multiplas_linhas                 7267 non-null   object \n",
      " 9   servico_internet                 7267 non-null   object \n",
      " 10  assinatura_seguranca             7267 non-null   object \n",
      " 11  assinatura_backup                7267 non-null   object \n",
      " 12  assinatura_protecao_dispositivo  7267 non-null   object \n",
      " 13  assinatura_suporte               7267 non-null   object \n",
      " 14  assinatura_TV                    7267 non-null   object \n",
      " 15  assinatura_streaming             7267 non-null   object \n",
      " 16  contrato                         7267 non-null   object \n",
      " 17  fatura_digital                   7267 non-null   object \n",
      " 18  forma_pagamento                  7267 non-null   object \n",
      " 19  total_servicos_mes               7267 non-null   float64\n",
      " 20  total_gasto                      7267 non-null   object \n",
      "dtypes: float64(1), int64(2), object(18)\n",
      "memory usage: 1.2+ MB\n"
     ]
    }
   ],
   "source": [
    "df_base.info()"
   ]
  },
  {
   "cell_type": "markdown",
   "id": "4ec21ce0",
   "metadata": {
    "id": "4ec21ce0"
   },
   "source": [
    "A coluna total_gasto apresenta o tipo 'object', porém, se trata de um valor numérico flutuante, ou float, e por isto se faz necessária a conversão do mesmo.\n",
    "\n",
    "Utilizei a função pd.to_numeric para isto."
   ]
  },
  {
   "cell_type": "code",
   "execution_count": 7,
   "id": "8b03e100",
   "metadata": {
    "colab": {
     "base_uri": "https://localhost:8080/",
     "height": 240
    },
    "id": "8b03e100",
    "outputId": "cfba8762-1872-4403-ad87-9494b93c7de8"
   },
   "outputs": [
    {
     "data": {
      "text/html": [
       "<div>\n",
       "<style scoped>\n",
       "    .dataframe tbody tr th:only-of-type {\n",
       "        vertical-align: middle;\n",
       "    }\n",
       "\n",
       "    .dataframe tbody tr th {\n",
       "        vertical-align: top;\n",
       "    }\n",
       "\n",
       "    .dataframe thead th {\n",
       "        text-align: right;\n",
       "    }\n",
       "</style>\n",
       "<table border=\"1\" class=\"dataframe\">\n",
       "  <thead>\n",
       "    <tr style=\"text-align: right;\">\n",
       "      <th></th>\n",
       "      <th>clienteID</th>\n",
       "      <th>Churn</th>\n",
       "      <th>genero_cliente</th>\n",
       "      <th>mais_que_65_anos</th>\n",
       "      <th>possui_parceiro_a</th>\n",
       "      <th>possui_dependentes</th>\n",
       "      <th>meses_contrato</th>\n",
       "      <th>servico_telefonico</th>\n",
       "      <th>multiplas_linhas</th>\n",
       "      <th>servico_internet</th>\n",
       "      <th>...</th>\n",
       "      <th>assinatura_backup</th>\n",
       "      <th>assinatura_protecao_dispositivo</th>\n",
       "      <th>assinatura_suporte</th>\n",
       "      <th>assinatura_TV</th>\n",
       "      <th>assinatura_streaming</th>\n",
       "      <th>contrato</th>\n",
       "      <th>fatura_digital</th>\n",
       "      <th>forma_pagamento</th>\n",
       "      <th>total_servicos_mes</th>\n",
       "      <th>total_gasto</th>\n",
       "    </tr>\n",
       "  </thead>\n",
       "  <tbody>\n",
       "    <tr>\n",
       "      <th>0</th>\n",
       "      <td>0002-ORFBO</td>\n",
       "      <td>No</td>\n",
       "      <td>Female</td>\n",
       "      <td>0</td>\n",
       "      <td>Yes</td>\n",
       "      <td>Yes</td>\n",
       "      <td>9</td>\n",
       "      <td>Yes</td>\n",
       "      <td>No</td>\n",
       "      <td>DSL</td>\n",
       "      <td>...</td>\n",
       "      <td>Yes</td>\n",
       "      <td>No</td>\n",
       "      <td>Yes</td>\n",
       "      <td>Yes</td>\n",
       "      <td>No</td>\n",
       "      <td>One year</td>\n",
       "      <td>Yes</td>\n",
       "      <td>Mailed check</td>\n",
       "      <td>65.6</td>\n",
       "      <td>593.3</td>\n",
       "    </tr>\n",
       "    <tr>\n",
       "      <th>1</th>\n",
       "      <td>0003-MKNFE</td>\n",
       "      <td>No</td>\n",
       "      <td>Male</td>\n",
       "      <td>0</td>\n",
       "      <td>No</td>\n",
       "      <td>No</td>\n",
       "      <td>9</td>\n",
       "      <td>Yes</td>\n",
       "      <td>Yes</td>\n",
       "      <td>DSL</td>\n",
       "      <td>...</td>\n",
       "      <td>No</td>\n",
       "      <td>No</td>\n",
       "      <td>No</td>\n",
       "      <td>No</td>\n",
       "      <td>Yes</td>\n",
       "      <td>Month-to-month</td>\n",
       "      <td>No</td>\n",
       "      <td>Mailed check</td>\n",
       "      <td>59.9</td>\n",
       "      <td>542.4</td>\n",
       "    </tr>\n",
       "  </tbody>\n",
       "</table>\n",
       "<p>2 rows × 21 columns</p>\n",
       "</div>"
      ],
      "text/plain": [
       "    clienteID Churn genero_cliente  mais_que_65_anos possui_parceiro_a  \\\n",
       "0  0002-ORFBO    No         Female                 0               Yes   \n",
       "1  0003-MKNFE    No           Male                 0                No   \n",
       "\n",
       "  possui_dependentes  meses_contrato servico_telefonico multiplas_linhas  \\\n",
       "0                Yes               9                Yes               No   \n",
       "1                 No               9                Yes              Yes   \n",
       "\n",
       "  servico_internet  ... assinatura_backup assinatura_protecao_dispositivo  \\\n",
       "0              DSL  ...               Yes                              No   \n",
       "1              DSL  ...                No                              No   \n",
       "\n",
       "  assinatura_suporte assinatura_TV assinatura_streaming        contrato  \\\n",
       "0                Yes           Yes                   No        One year   \n",
       "1                 No            No                  Yes  Month-to-month   \n",
       "\n",
       "  fatura_digital forma_pagamento total_servicos_mes  total_gasto  \n",
       "0            Yes    Mailed check               65.6        593.3  \n",
       "1             No    Mailed check               59.9        542.4  \n",
       "\n",
       "[2 rows x 21 columns]"
      ]
     },
     "execution_count": 7,
     "metadata": {},
     "output_type": "execute_result"
    }
   ],
   "source": [
    "# Convertendo coluna total_gasto para float\n",
    "df_base.total_gasto = pd.to_numeric(df_base.total_gasto, errors='coerce')\n",
    "df_base.head(2)"
   ]
  },
  {
   "cell_type": "markdown",
   "id": "ab793708",
   "metadata": {
    "id": "ab793708"
   },
   "source": [
    "Após converter os dados, importante verificar os dados obtidos, pois na função to_numeric foi utilizado o argumento *errors = 'coerce'*. Este argumento faz com que os dados que tenham erros sejam covertidos em NaN, e estes podem atrapalhar a análise e montagem de gráficos."
   ]
  },
  {
   "cell_type": "code",
   "execution_count": 8,
   "id": "b0dd27a6",
   "metadata": {
    "colab": {
     "base_uri": "https://localhost:8080/",
     "height": 679
    },
    "id": "b0dd27a6",
    "outputId": "25b5252e-5b45-4d35-e034-02411ddef7c4",
    "scrolled": true
   },
   "outputs": [
    {
     "data": {
      "text/html": [
       "<div>\n",
       "<style scoped>\n",
       "    .dataframe tbody tr th:only-of-type {\n",
       "        vertical-align: middle;\n",
       "    }\n",
       "\n",
       "    .dataframe tbody tr th {\n",
       "        vertical-align: top;\n",
       "    }\n",
       "\n",
       "    .dataframe thead th {\n",
       "        text-align: right;\n",
       "    }\n",
       "</style>\n",
       "<table border=\"1\" class=\"dataframe\">\n",
       "  <thead>\n",
       "    <tr style=\"text-align: right;\">\n",
       "      <th></th>\n",
       "      <th>clienteID</th>\n",
       "      <th>Churn</th>\n",
       "      <th>genero_cliente</th>\n",
       "      <th>mais_que_65_anos</th>\n",
       "      <th>possui_parceiro_a</th>\n",
       "      <th>possui_dependentes</th>\n",
       "      <th>meses_contrato</th>\n",
       "      <th>servico_telefonico</th>\n",
       "      <th>multiplas_linhas</th>\n",
       "      <th>servico_internet</th>\n",
       "      <th>...</th>\n",
       "      <th>assinatura_backup</th>\n",
       "      <th>assinatura_protecao_dispositivo</th>\n",
       "      <th>assinatura_suporte</th>\n",
       "      <th>assinatura_TV</th>\n",
       "      <th>assinatura_streaming</th>\n",
       "      <th>contrato</th>\n",
       "      <th>fatura_digital</th>\n",
       "      <th>forma_pagamento</th>\n",
       "      <th>total_servicos_mes</th>\n",
       "      <th>total_gasto</th>\n",
       "    </tr>\n",
       "  </thead>\n",
       "  <tbody>\n",
       "    <tr>\n",
       "      <th>975</th>\n",
       "      <td>1371-DWPAZ</td>\n",
       "      <td>No</td>\n",
       "      <td>Female</td>\n",
       "      <td>0</td>\n",
       "      <td>Yes</td>\n",
       "      <td>Yes</td>\n",
       "      <td>0</td>\n",
       "      <td>No</td>\n",
       "      <td>No phone service</td>\n",
       "      <td>DSL</td>\n",
       "      <td>...</td>\n",
       "      <td>Yes</td>\n",
       "      <td>Yes</td>\n",
       "      <td>Yes</td>\n",
       "      <td>Yes</td>\n",
       "      <td>No</td>\n",
       "      <td>Two year</td>\n",
       "      <td>No</td>\n",
       "      <td>Credit card (automatic)</td>\n",
       "      <td>56.05</td>\n",
       "      <td>NaN</td>\n",
       "    </tr>\n",
       "    <tr>\n",
       "      <th>1775</th>\n",
       "      <td>2520-SGTTA</td>\n",
       "      <td>No</td>\n",
       "      <td>Female</td>\n",
       "      <td>0</td>\n",
       "      <td>Yes</td>\n",
       "      <td>Yes</td>\n",
       "      <td>0</td>\n",
       "      <td>Yes</td>\n",
       "      <td>No</td>\n",
       "      <td>No</td>\n",
       "      <td>...</td>\n",
       "      <td>No internet service</td>\n",
       "      <td>No internet service</td>\n",
       "      <td>No internet service</td>\n",
       "      <td>No internet service</td>\n",
       "      <td>No internet service</td>\n",
       "      <td>Two year</td>\n",
       "      <td>No</td>\n",
       "      <td>Mailed check</td>\n",
       "      <td>20.00</td>\n",
       "      <td>NaN</td>\n",
       "    </tr>\n",
       "    <tr>\n",
       "      <th>1955</th>\n",
       "      <td>2775-SEFEE</td>\n",
       "      <td>No</td>\n",
       "      <td>Male</td>\n",
       "      <td>0</td>\n",
       "      <td>No</td>\n",
       "      <td>Yes</td>\n",
       "      <td>0</td>\n",
       "      <td>Yes</td>\n",
       "      <td>Yes</td>\n",
       "      <td>DSL</td>\n",
       "      <td>...</td>\n",
       "      <td>Yes</td>\n",
       "      <td>No</td>\n",
       "      <td>Yes</td>\n",
       "      <td>No</td>\n",
       "      <td>No</td>\n",
       "      <td>Two year</td>\n",
       "      <td>Yes</td>\n",
       "      <td>Bank transfer (automatic)</td>\n",
       "      <td>61.90</td>\n",
       "      <td>NaN</td>\n",
       "    </tr>\n",
       "    <tr>\n",
       "      <th>2075</th>\n",
       "      <td>2923-ARZLG</td>\n",
       "      <td>No</td>\n",
       "      <td>Male</td>\n",
       "      <td>0</td>\n",
       "      <td>Yes</td>\n",
       "      <td>Yes</td>\n",
       "      <td>0</td>\n",
       "      <td>Yes</td>\n",
       "      <td>No</td>\n",
       "      <td>No</td>\n",
       "      <td>...</td>\n",
       "      <td>No internet service</td>\n",
       "      <td>No internet service</td>\n",
       "      <td>No internet service</td>\n",
       "      <td>No internet service</td>\n",
       "      <td>No internet service</td>\n",
       "      <td>One year</td>\n",
       "      <td>Yes</td>\n",
       "      <td>Mailed check</td>\n",
       "      <td>19.70</td>\n",
       "      <td>NaN</td>\n",
       "    </tr>\n",
       "    <tr>\n",
       "      <th>2232</th>\n",
       "      <td>3115-CZMZD</td>\n",
       "      <td>No</td>\n",
       "      <td>Male</td>\n",
       "      <td>0</td>\n",
       "      <td>No</td>\n",
       "      <td>Yes</td>\n",
       "      <td>0</td>\n",
       "      <td>Yes</td>\n",
       "      <td>No</td>\n",
       "      <td>No</td>\n",
       "      <td>...</td>\n",
       "      <td>No internet service</td>\n",
       "      <td>No internet service</td>\n",
       "      <td>No internet service</td>\n",
       "      <td>No internet service</td>\n",
       "      <td>No internet service</td>\n",
       "      <td>Two year</td>\n",
       "      <td>No</td>\n",
       "      <td>Mailed check</td>\n",
       "      <td>20.25</td>\n",
       "      <td>NaN</td>\n",
       "    </tr>\n",
       "    <tr>\n",
       "      <th>2308</th>\n",
       "      <td>3213-VVOLG</td>\n",
       "      <td>No</td>\n",
       "      <td>Male</td>\n",
       "      <td>0</td>\n",
       "      <td>Yes</td>\n",
       "      <td>Yes</td>\n",
       "      <td>0</td>\n",
       "      <td>Yes</td>\n",
       "      <td>Yes</td>\n",
       "      <td>No</td>\n",
       "      <td>...</td>\n",
       "      <td>No internet service</td>\n",
       "      <td>No internet service</td>\n",
       "      <td>No internet service</td>\n",
       "      <td>No internet service</td>\n",
       "      <td>No internet service</td>\n",
       "      <td>Two year</td>\n",
       "      <td>No</td>\n",
       "      <td>Mailed check</td>\n",
       "      <td>25.35</td>\n",
       "      <td>NaN</td>\n",
       "    </tr>\n",
       "    <tr>\n",
       "      <th>2930</th>\n",
       "      <td>4075-WKNIU</td>\n",
       "      <td>No</td>\n",
       "      <td>Female</td>\n",
       "      <td>0</td>\n",
       "      <td>Yes</td>\n",
       "      <td>Yes</td>\n",
       "      <td>0</td>\n",
       "      <td>Yes</td>\n",
       "      <td>Yes</td>\n",
       "      <td>DSL</td>\n",
       "      <td>...</td>\n",
       "      <td>Yes</td>\n",
       "      <td>Yes</td>\n",
       "      <td>Yes</td>\n",
       "      <td>Yes</td>\n",
       "      <td>No</td>\n",
       "      <td>Two year</td>\n",
       "      <td>No</td>\n",
       "      <td>Mailed check</td>\n",
       "      <td>73.35</td>\n",
       "      <td>NaN</td>\n",
       "    </tr>\n",
       "    <tr>\n",
       "      <th>3134</th>\n",
       "      <td>4367-NUYAO</td>\n",
       "      <td>No</td>\n",
       "      <td>Male</td>\n",
       "      <td>0</td>\n",
       "      <td>Yes</td>\n",
       "      <td>Yes</td>\n",
       "      <td>0</td>\n",
       "      <td>Yes</td>\n",
       "      <td>Yes</td>\n",
       "      <td>No</td>\n",
       "      <td>...</td>\n",
       "      <td>No internet service</td>\n",
       "      <td>No internet service</td>\n",
       "      <td>No internet service</td>\n",
       "      <td>No internet service</td>\n",
       "      <td>No internet service</td>\n",
       "      <td>Two year</td>\n",
       "      <td>No</td>\n",
       "      <td>Mailed check</td>\n",
       "      <td>25.75</td>\n",
       "      <td>NaN</td>\n",
       "    </tr>\n",
       "    <tr>\n",
       "      <th>3203</th>\n",
       "      <td>4472-LVYGI</td>\n",
       "      <td>No</td>\n",
       "      <td>Female</td>\n",
       "      <td>0</td>\n",
       "      <td>Yes</td>\n",
       "      <td>Yes</td>\n",
       "      <td>0</td>\n",
       "      <td>No</td>\n",
       "      <td>No phone service</td>\n",
       "      <td>DSL</td>\n",
       "      <td>...</td>\n",
       "      <td>No</td>\n",
       "      <td>Yes</td>\n",
       "      <td>Yes</td>\n",
       "      <td>Yes</td>\n",
       "      <td>No</td>\n",
       "      <td>Two year</td>\n",
       "      <td>Yes</td>\n",
       "      <td>Bank transfer (automatic)</td>\n",
       "      <td>52.55</td>\n",
       "      <td>NaN</td>\n",
       "    </tr>\n",
       "    <tr>\n",
       "      <th>4169</th>\n",
       "      <td>5709-LVOEQ</td>\n",
       "      <td>No</td>\n",
       "      <td>Female</td>\n",
       "      <td>0</td>\n",
       "      <td>Yes</td>\n",
       "      <td>Yes</td>\n",
       "      <td>0</td>\n",
       "      <td>Yes</td>\n",
       "      <td>No</td>\n",
       "      <td>DSL</td>\n",
       "      <td>...</td>\n",
       "      <td>Yes</td>\n",
       "      <td>Yes</td>\n",
       "      <td>No</td>\n",
       "      <td>Yes</td>\n",
       "      <td>Yes</td>\n",
       "      <td>Two year</td>\n",
       "      <td>No</td>\n",
       "      <td>Mailed check</td>\n",
       "      <td>80.85</td>\n",
       "      <td>NaN</td>\n",
       "    </tr>\n",
       "    <tr>\n",
       "      <th>5599</th>\n",
       "      <td>7644-OMVMY</td>\n",
       "      <td>No</td>\n",
       "      <td>Male</td>\n",
       "      <td>0</td>\n",
       "      <td>Yes</td>\n",
       "      <td>Yes</td>\n",
       "      <td>0</td>\n",
       "      <td>Yes</td>\n",
       "      <td>No</td>\n",
       "      <td>No</td>\n",
       "      <td>...</td>\n",
       "      <td>No internet service</td>\n",
       "      <td>No internet service</td>\n",
       "      <td>No internet service</td>\n",
       "      <td>No internet service</td>\n",
       "      <td>No internet service</td>\n",
       "      <td>Two year</td>\n",
       "      <td>No</td>\n",
       "      <td>Mailed check</td>\n",
       "      <td>19.85</td>\n",
       "      <td>NaN</td>\n",
       "    </tr>\n",
       "  </tbody>\n",
       "</table>\n",
       "<p>11 rows × 21 columns</p>\n",
       "</div>"
      ],
      "text/plain": [
       "       clienteID Churn genero_cliente  mais_que_65_anos possui_parceiro_a  \\\n",
       "975   1371-DWPAZ    No         Female                 0               Yes   \n",
       "1775  2520-SGTTA    No         Female                 0               Yes   \n",
       "1955  2775-SEFEE    No           Male                 0                No   \n",
       "2075  2923-ARZLG    No           Male                 0               Yes   \n",
       "2232  3115-CZMZD    No           Male                 0                No   \n",
       "2308  3213-VVOLG    No           Male                 0               Yes   \n",
       "2930  4075-WKNIU    No         Female                 0               Yes   \n",
       "3134  4367-NUYAO    No           Male                 0               Yes   \n",
       "3203  4472-LVYGI    No         Female                 0               Yes   \n",
       "4169  5709-LVOEQ    No         Female                 0               Yes   \n",
       "5599  7644-OMVMY    No           Male                 0               Yes   \n",
       "\n",
       "     possui_dependentes  meses_contrato servico_telefonico  multiplas_linhas  \\\n",
       "975                 Yes               0                 No  No phone service   \n",
       "1775                Yes               0                Yes                No   \n",
       "1955                Yes               0                Yes               Yes   \n",
       "2075                Yes               0                Yes                No   \n",
       "2232                Yes               0                Yes                No   \n",
       "2308                Yes               0                Yes               Yes   \n",
       "2930                Yes               0                Yes               Yes   \n",
       "3134                Yes               0                Yes               Yes   \n",
       "3203                Yes               0                 No  No phone service   \n",
       "4169                Yes               0                Yes                No   \n",
       "5599                Yes               0                Yes                No   \n",
       "\n",
       "     servico_internet  ...    assinatura_backup  \\\n",
       "975               DSL  ...                  Yes   \n",
       "1775               No  ...  No internet service   \n",
       "1955              DSL  ...                  Yes   \n",
       "2075               No  ...  No internet service   \n",
       "2232               No  ...  No internet service   \n",
       "2308               No  ...  No internet service   \n",
       "2930              DSL  ...                  Yes   \n",
       "3134               No  ...  No internet service   \n",
       "3203              DSL  ...                   No   \n",
       "4169              DSL  ...                  Yes   \n",
       "5599               No  ...  No internet service   \n",
       "\n",
       "     assinatura_protecao_dispositivo   assinatura_suporte  \\\n",
       "975                              Yes                  Yes   \n",
       "1775             No internet service  No internet service   \n",
       "1955                              No                  Yes   \n",
       "2075             No internet service  No internet service   \n",
       "2232             No internet service  No internet service   \n",
       "2308             No internet service  No internet service   \n",
       "2930                             Yes                  Yes   \n",
       "3134             No internet service  No internet service   \n",
       "3203                             Yes                  Yes   \n",
       "4169                             Yes                   No   \n",
       "5599             No internet service  No internet service   \n",
       "\n",
       "            assinatura_TV assinatura_streaming  contrato fatura_digital  \\\n",
       "975                   Yes                   No  Two year             No   \n",
       "1775  No internet service  No internet service  Two year             No   \n",
       "1955                   No                   No  Two year            Yes   \n",
       "2075  No internet service  No internet service  One year            Yes   \n",
       "2232  No internet service  No internet service  Two year             No   \n",
       "2308  No internet service  No internet service  Two year             No   \n",
       "2930                  Yes                   No  Two year             No   \n",
       "3134  No internet service  No internet service  Two year             No   \n",
       "3203                  Yes                   No  Two year            Yes   \n",
       "4169                  Yes                  Yes  Two year             No   \n",
       "5599  No internet service  No internet service  Two year             No   \n",
       "\n",
       "                forma_pagamento total_servicos_mes  total_gasto  \n",
       "975     Credit card (automatic)              56.05          NaN  \n",
       "1775               Mailed check              20.00          NaN  \n",
       "1955  Bank transfer (automatic)              61.90          NaN  \n",
       "2075               Mailed check              19.70          NaN  \n",
       "2232               Mailed check              20.25          NaN  \n",
       "2308               Mailed check              25.35          NaN  \n",
       "2930               Mailed check              73.35          NaN  \n",
       "3134               Mailed check              25.75          NaN  \n",
       "3203  Bank transfer (automatic)              52.55          NaN  \n",
       "4169               Mailed check              80.85          NaN  \n",
       "5599               Mailed check              19.85          NaN  \n",
       "\n",
       "[11 rows x 21 columns]"
      ]
     },
     "execution_count": 8,
     "metadata": {},
     "output_type": "execute_result"
    }
   ],
   "source": [
    "df_base[df_base.total_gasto.isna()]"
   ]
  },
  {
   "cell_type": "markdown",
   "id": "611d175c",
   "metadata": {
    "id": "611d175c"
   },
   "source": [
    "Foram identificadas 11 linhas em que o total_gasto contém NaN, coincidindo com as linhas em que os clientes ainda não possuem um mês completo de utilização dos serviços (coluna meses_contrato = 0).\n",
    "\n",
    "Será considerado o valor da coluna total_servicos_mes nestes casos, pois indica o valor gasto pelo cliente em todo o período de assinatura do mesmo (no caso, um mês incompleto)."
   ]
  },
  {
   "cell_type": "code",
   "execution_count": 9,
   "id": "a36aa596",
   "metadata": {
    "colab": {
     "base_uri": "https://localhost:8080/",
     "height": 394
    },
    "id": "a36aa596",
    "outputId": "46cc2c98-921e-4311-fd2e-36a14044c958"
   },
   "outputs": [
    {
     "data": {
      "text/html": [
       "<div>\n",
       "<style scoped>\n",
       "    .dataframe tbody tr th:only-of-type {\n",
       "        vertical-align: middle;\n",
       "    }\n",
       "\n",
       "    .dataframe tbody tr th {\n",
       "        vertical-align: top;\n",
       "    }\n",
       "\n",
       "    .dataframe thead th {\n",
       "        text-align: right;\n",
       "    }\n",
       "</style>\n",
       "<table border=\"1\" class=\"dataframe\">\n",
       "  <thead>\n",
       "    <tr style=\"text-align: right;\">\n",
       "      <th></th>\n",
       "      <th>total_servicos_mes</th>\n",
       "      <th>total_gasto</th>\n",
       "    </tr>\n",
       "  </thead>\n",
       "  <tbody>\n",
       "    <tr>\n",
       "      <th>975</th>\n",
       "      <td>56.05</td>\n",
       "      <td>56.05</td>\n",
       "    </tr>\n",
       "    <tr>\n",
       "      <th>1775</th>\n",
       "      <td>20.00</td>\n",
       "      <td>20.00</td>\n",
       "    </tr>\n",
       "    <tr>\n",
       "      <th>1955</th>\n",
       "      <td>61.90</td>\n",
       "      <td>61.90</td>\n",
       "    </tr>\n",
       "    <tr>\n",
       "      <th>2075</th>\n",
       "      <td>19.70</td>\n",
       "      <td>19.70</td>\n",
       "    </tr>\n",
       "    <tr>\n",
       "      <th>2232</th>\n",
       "      <td>20.25</td>\n",
       "      <td>20.25</td>\n",
       "    </tr>\n",
       "    <tr>\n",
       "      <th>2308</th>\n",
       "      <td>25.35</td>\n",
       "      <td>25.35</td>\n",
       "    </tr>\n",
       "    <tr>\n",
       "      <th>2930</th>\n",
       "      <td>73.35</td>\n",
       "      <td>73.35</td>\n",
       "    </tr>\n",
       "    <tr>\n",
       "      <th>3134</th>\n",
       "      <td>25.75</td>\n",
       "      <td>25.75</td>\n",
       "    </tr>\n",
       "    <tr>\n",
       "      <th>3203</th>\n",
       "      <td>52.55</td>\n",
       "      <td>52.55</td>\n",
       "    </tr>\n",
       "    <tr>\n",
       "      <th>4169</th>\n",
       "      <td>80.85</td>\n",
       "      <td>80.85</td>\n",
       "    </tr>\n",
       "    <tr>\n",
       "      <th>5599</th>\n",
       "      <td>19.85</td>\n",
       "      <td>19.85</td>\n",
       "    </tr>\n",
       "  </tbody>\n",
       "</table>\n",
       "</div>"
      ],
      "text/plain": [
       "      total_servicos_mes  total_gasto\n",
       "975                56.05        56.05\n",
       "1775               20.00        20.00\n",
       "1955               61.90        61.90\n",
       "2075               19.70        19.70\n",
       "2232               20.25        20.25\n",
       "2308               25.35        25.35\n",
       "2930               73.35        73.35\n",
       "3134               25.75        25.75\n",
       "3203               52.55        52.55\n",
       "4169               80.85        80.85\n",
       "5599               19.85        19.85"
      ]
     },
     "execution_count": 9,
     "metadata": {},
     "output_type": "execute_result"
    }
   ],
   "source": [
    "df_base.loc[df_base.total_gasto.isna(), 'total_gasto'] = df_base.loc[df_base.total_gasto.isna(), 'total_servicos_mes']\n",
    "df_base[df_base.meses_contrato == 0][['total_servicos_mes', 'total_gasto']]"
   ]
  },
  {
   "cell_type": "markdown",
   "id": "48d59d4e",
   "metadata": {
    "id": "48d59d4e"
   },
   "source": [
    "Achei interessante a ideia de criar uma função para validar os valores apresentados nas colunas para evitar a repetição de código.\n",
    "\n",
    "Aproveitei pra criar uma lista de todos os valores únicos, para possibilitar uma tradução dos valores contidos na tabela, além dos valores das colunas (que já foram traduzidos)."
   ]
  },
  {
   "cell_type": "code",
   "execution_count": 10,
   "id": "0NzzCJfdJcCi",
   "metadata": {
    "colab": {
     "base_uri": "https://localhost:8080/"
    },
    "id": "0NzzCJfdJcCi",
    "outputId": "a9881cae-5876-40fe-91de-4cf063427a7d"
   },
   "outputs": [
    {
     "data": {
      "text/plain": [
       "Index(['Churn', 'genero_cliente', 'mais_que_65_anos', 'possui_parceiro_a',\n",
       "       'possui_dependentes', 'meses_contrato', 'servico_telefonico',\n",
       "       'multiplas_linhas', 'servico_internet', 'assinatura_seguranca',\n",
       "       'assinatura_backup', 'assinatura_protecao_dispositivo',\n",
       "       'assinatura_suporte', 'assinatura_TV', 'assinatura_streaming',\n",
       "       'contrato', 'fatura_digital', 'forma_pagamento', 'total_servicos_mes',\n",
       "       'total_gasto'],\n",
       "      dtype='object')"
      ]
     },
     "execution_count": 10,
     "metadata": {},
     "output_type": "execute_result"
    }
   ],
   "source": [
    "df_base.loc[:,'Churn':].columns"
   ]
  },
  {
   "cell_type": "code",
   "execution_count": 11,
   "id": "3be50400",
   "metadata": {
    "id": "3be50400"
   },
   "outputs": [],
   "source": [
    "def valores_unicos(df):\n",
    "    lista_valores_unicos = []\n",
    "    for coluna in df.loc[:,'Churn':].columns:\n",
    "        if len(df[f'{coluna}'].unique()) > 5:\n",
    "            print(f'{coluna} contém muitos valores únicos, analisar com maior detalhamento.')\n",
    "        else:\n",
    "            valores = df[f'{coluna}'].unique()\n",
    "            lista_valores_unicos.extend(list(valores))\n",
    "            print(f'{coluna}: ' + str(valores))\n",
    "    lista_valores_unicos = list(set(lista_valores_unicos))\n",
    "    return lista_valores_unicos"
   ]
  },
  {
   "cell_type": "code",
   "execution_count": 12,
   "id": "29eeda5a",
   "metadata": {
    "colab": {
     "base_uri": "https://localhost:8080/"
    },
    "id": "29eeda5a",
    "outputId": "0956ef44-d8e6-4984-dfda-b95fbc970a06",
    "scrolled": true
   },
   "outputs": [
    {
     "name": "stdout",
     "output_type": "stream",
     "text": [
      "Churn: ['No' 'Yes' '']\n",
      "genero_cliente: ['Female' 'Male']\n",
      "mais_que_65_anos: [0 1]\n",
      "possui_parceiro_a: ['Yes' 'No']\n",
      "possui_dependentes: ['Yes' 'No']\n",
      "meses_contrato contém muitos valores únicos, analisar com maior detalhamento.\n",
      "servico_telefonico: ['Yes' 'No']\n",
      "multiplas_linhas: ['No' 'Yes' 'No phone service']\n",
      "servico_internet: ['DSL' 'Fiber optic' 'No']\n",
      "assinatura_seguranca: ['No' 'Yes' 'No internet service']\n",
      "assinatura_backup: ['Yes' 'No' 'No internet service']\n",
      "assinatura_protecao_dispositivo: ['No' 'Yes' 'No internet service']\n",
      "assinatura_suporte: ['Yes' 'No' 'No internet service']\n",
      "assinatura_TV: ['Yes' 'No' 'No internet service']\n",
      "assinatura_streaming: ['No' 'Yes' 'No internet service']\n",
      "contrato: ['One year' 'Month-to-month' 'Two year']\n",
      "fatura_digital: ['Yes' 'No']\n",
      "forma_pagamento: ['Mailed check' 'Electronic check' 'Credit card (automatic)'\n",
      " 'Bank transfer (automatic)']\n",
      "total_servicos_mes contém muitos valores únicos, analisar com maior detalhamento.\n",
      "total_gasto contém muitos valores únicos, analisar com maior detalhamento.\n"
     ]
    }
   ],
   "source": [
    "lista_valores_unicos = valores_unicos(df_base)"
   ]
  },
  {
   "cell_type": "code",
   "execution_count": 13,
   "id": "0PelfSDWKqUX",
   "metadata": {
    "colab": {
     "base_uri": "https://localhost:8080/"
    },
    "id": "0PelfSDWKqUX",
    "outputId": "f2fe0988-a312-464a-84dc-1eefb55f1172"
   },
   "outputs": [
    {
     "data": {
      "text/plain": [
       "array(['', '0', '1', 'Bank transfer (automatic)',\n",
       "       'Credit card (automatic)', 'DSL', 'Electronic check', 'Female',\n",
       "       'Fiber optic', 'Mailed check', 'Male', 'Month-to-month', 'No',\n",
       "       'No internet service', 'No phone service', 'One year', 'Two year',\n",
       "       'Yes'], dtype='<U25')"
      ]
     },
     "execution_count": 13,
     "metadata": {},
     "output_type": "execute_result"
    }
   ],
   "source": [
    "lista_valores_unicos = np.sort(lista_valores_unicos)\n",
    "lista_valores_unicos"
   ]
  },
  {
   "cell_type": "markdown",
   "id": "iyRlsqcDPYXE",
   "metadata": {
    "id": "iyRlsqcDPYXE"
   },
   "source": [
    "Com a lista de valores únicos pronta, basta criar uma lista com os valores traduzidos e executar um .replace no dataframe inteiro.\n",
    "\n",
    "Apenas para manter o padrão, criei novo dataframe inidicando que se trata de valores traduzidos."
   ]
  },
  {
   "cell_type": "code",
   "execution_count": 14,
   "id": "qEUxhb69NGgl",
   "metadata": {
    "colab": {
     "base_uri": "https://localhost:8080/",
     "height": 386
    },
    "id": "qEUxhb69NGgl",
    "outputId": "f9b66743-fe2a-40d3-dc1f-54d6fcdfe2e2"
   },
   "outputs": [
    {
     "data": {
      "text/html": [
       "<div>\n",
       "<style scoped>\n",
       "    .dataframe tbody tr th:only-of-type {\n",
       "        vertical-align: middle;\n",
       "    }\n",
       "\n",
       "    .dataframe tbody tr th {\n",
       "        vertical-align: top;\n",
       "    }\n",
       "\n",
       "    .dataframe thead th {\n",
       "        text-align: right;\n",
       "    }\n",
       "</style>\n",
       "<table border=\"1\" class=\"dataframe\">\n",
       "  <thead>\n",
       "    <tr style=\"text-align: right;\">\n",
       "      <th></th>\n",
       "      <th>clienteID</th>\n",
       "      <th>Churn</th>\n",
       "      <th>genero_cliente</th>\n",
       "      <th>mais_que_65_anos</th>\n",
       "      <th>possui_parceiro_a</th>\n",
       "      <th>possui_dependentes</th>\n",
       "      <th>meses_contrato</th>\n",
       "      <th>servico_telefonico</th>\n",
       "      <th>multiplas_linhas</th>\n",
       "      <th>servico_internet</th>\n",
       "      <th>...</th>\n",
       "      <th>assinatura_backup</th>\n",
       "      <th>assinatura_protecao_dispositivo</th>\n",
       "      <th>assinatura_suporte</th>\n",
       "      <th>assinatura_TV</th>\n",
       "      <th>assinatura_streaming</th>\n",
       "      <th>contrato</th>\n",
       "      <th>fatura_digital</th>\n",
       "      <th>forma_pagamento</th>\n",
       "      <th>total_servicos_mes</th>\n",
       "      <th>total_gasto</th>\n",
       "    </tr>\n",
       "  </thead>\n",
       "  <tbody>\n",
       "    <tr>\n",
       "      <th>3603</th>\n",
       "      <td>4959-JOSRX</td>\n",
       "      <td>Sim</td>\n",
       "      <td>Feminino</td>\n",
       "      <td>0</td>\n",
       "      <td>Sim</td>\n",
       "      <td>Não</td>\n",
       "      <td>2</td>\n",
       "      <td>Sim</td>\n",
       "      <td>Não</td>\n",
       "      <td>DSL</td>\n",
       "      <td>...</td>\n",
       "      <td>Não</td>\n",
       "      <td>Não</td>\n",
       "      <td>Não</td>\n",
       "      <td>Não</td>\n",
       "      <td>Não</td>\n",
       "      <td>Mês a mês</td>\n",
       "      <td>Sim</td>\n",
       "      <td>Cartão de crédito (automático)</td>\n",
       "      <td>44.6</td>\n",
       "      <td>80.55</td>\n",
       "    </tr>\n",
       "    <tr>\n",
       "      <th>3756</th>\n",
       "      <td>5161-XEUVX</td>\n",
       "      <td>Não</td>\n",
       "      <td>Masculino</td>\n",
       "      <td>0</td>\n",
       "      <td>Sim</td>\n",
       "      <td>Não</td>\n",
       "      <td>37</td>\n",
       "      <td>Sim</td>\n",
       "      <td>Sim</td>\n",
       "      <td>Fibra ótica</td>\n",
       "      <td>...</td>\n",
       "      <td>Não</td>\n",
       "      <td>Sim</td>\n",
       "      <td>Sim</td>\n",
       "      <td>Sim</td>\n",
       "      <td>Não</td>\n",
       "      <td>Dois anos</td>\n",
       "      <td>Não</td>\n",
       "      <td>Cheque por correio</td>\n",
       "      <td>94.3</td>\n",
       "      <td>3460.95</td>\n",
       "    </tr>\n",
       "    <tr>\n",
       "      <th>2658</th>\n",
       "      <td>3703-VAVCL</td>\n",
       "      <td>Sim</td>\n",
       "      <td>Masculino</td>\n",
       "      <td>0</td>\n",
       "      <td>Sim</td>\n",
       "      <td>Sim</td>\n",
       "      <td>2</td>\n",
       "      <td>Sim</td>\n",
       "      <td>Não</td>\n",
       "      <td>Fibra ótica</td>\n",
       "      <td>...</td>\n",
       "      <td>Não</td>\n",
       "      <td>Sim</td>\n",
       "      <td>Sim</td>\n",
       "      <td>Não</td>\n",
       "      <td>Sim</td>\n",
       "      <td>Mês a mês</td>\n",
       "      <td>Não</td>\n",
       "      <td>Cartão de crédito (automático)</td>\n",
       "      <td>90.0</td>\n",
       "      <td>190.05</td>\n",
       "    </tr>\n",
       "    <tr>\n",
       "      <th>2770</th>\n",
       "      <td>3838-OZURD</td>\n",
       "      <td>Sim</td>\n",
       "      <td>Masculino</td>\n",
       "      <td>0</td>\n",
       "      <td>Sim</td>\n",
       "      <td>Não</td>\n",
       "      <td>66</td>\n",
       "      <td>Sim</td>\n",
       "      <td>Sim</td>\n",
       "      <td>Fibra ótica</td>\n",
       "      <td>...</td>\n",
       "      <td>Sim</td>\n",
       "      <td>Sim</td>\n",
       "      <td>Não</td>\n",
       "      <td>Sim</td>\n",
       "      <td>Sim</td>\n",
       "      <td>Mês a mês</td>\n",
       "      <td>Sim</td>\n",
       "      <td>Cartão de crédito (automático)</td>\n",
       "      <td>105.0</td>\n",
       "      <td>7133.25</td>\n",
       "    </tr>\n",
       "    <tr>\n",
       "      <th>5018</th>\n",
       "      <td>6861-OKBCE</td>\n",
       "      <td>Sim</td>\n",
       "      <td>Feminino</td>\n",
       "      <td>0</td>\n",
       "      <td>Não</td>\n",
       "      <td>Sim</td>\n",
       "      <td>11</td>\n",
       "      <td>Sim</td>\n",
       "      <td>Não</td>\n",
       "      <td>Não</td>\n",
       "      <td>...</td>\n",
       "      <td>Sem serviço de internet</td>\n",
       "      <td>Sem serviço de internet</td>\n",
       "      <td>Sem serviço de internet</td>\n",
       "      <td>Sem serviço de internet</td>\n",
       "      <td>Sem serviço de internet</td>\n",
       "      <td>Mês a mês</td>\n",
       "      <td>Não</td>\n",
       "      <td>Cartão de crédito (automático)</td>\n",
       "      <td>20.1</td>\n",
       "      <td>221.35</td>\n",
       "    </tr>\n",
       "  </tbody>\n",
       "</table>\n",
       "<p>5 rows × 21 columns</p>\n",
       "</div>"
      ],
      "text/plain": [
       "       clienteID Churn genero_cliente  mais_que_65_anos possui_parceiro_a  \\\n",
       "3603  4959-JOSRX   Sim       Feminino                 0               Sim   \n",
       "3756  5161-XEUVX   Não      Masculino                 0               Sim   \n",
       "2658  3703-VAVCL   Sim      Masculino                 0               Sim   \n",
       "2770  3838-OZURD   Sim      Masculino                 0               Sim   \n",
       "5018  6861-OKBCE   Sim       Feminino                 0               Não   \n",
       "\n",
       "     possui_dependentes  meses_contrato servico_telefonico multiplas_linhas  \\\n",
       "3603                Não               2                Sim              Não   \n",
       "3756                Não              37                Sim              Sim   \n",
       "2658                Sim               2                Sim              Não   \n",
       "2770                Não              66                Sim              Sim   \n",
       "5018                Sim              11                Sim              Não   \n",
       "\n",
       "     servico_internet  ...        assinatura_backup  \\\n",
       "3603              DSL  ...                      Não   \n",
       "3756      Fibra ótica  ...                      Não   \n",
       "2658      Fibra ótica  ...                      Não   \n",
       "2770      Fibra ótica  ...                      Sim   \n",
       "5018              Não  ...  Sem serviço de internet   \n",
       "\n",
       "     assinatura_protecao_dispositivo       assinatura_suporte  \\\n",
       "3603                             Não                      Não   \n",
       "3756                             Sim                      Sim   \n",
       "2658                             Sim                      Sim   \n",
       "2770                             Sim                      Não   \n",
       "5018         Sem serviço de internet  Sem serviço de internet   \n",
       "\n",
       "                assinatura_TV     assinatura_streaming   contrato  \\\n",
       "3603                      Não                      Não  Mês a mês   \n",
       "3756                      Sim                      Não  Dois anos   \n",
       "2658                      Não                      Sim  Mês a mês   \n",
       "2770                      Sim                      Sim  Mês a mês   \n",
       "5018  Sem serviço de internet  Sem serviço de internet  Mês a mês   \n",
       "\n",
       "     fatura_digital                 forma_pagamento total_servicos_mes  \\\n",
       "3603            Sim  Cartão de crédito (automático)               44.6   \n",
       "3756            Não              Cheque por correio               94.3   \n",
       "2658            Não  Cartão de crédito (automático)               90.0   \n",
       "2770            Sim  Cartão de crédito (automático)              105.0   \n",
       "5018            Não  Cartão de crédito (automático)               20.1   \n",
       "\n",
       "      total_gasto  \n",
       "3603        80.55  \n",
       "3756      3460.95  \n",
       "2658       190.05  \n",
       "2770      7133.25  \n",
       "5018       221.35  \n",
       "\n",
       "[5 rows x 21 columns]"
      ]
     },
     "execution_count": 14,
     "metadata": {},
     "output_type": "execute_result"
    }
   ],
   "source": [
    "lista_valores_unicos_traduzidos = [\n",
    "                                   'Transferência bancária (automática)',\n",
    "                                   'Cartão de crédito (automático)',\n",
    "                                   'DSL',\n",
    "                                   'Cheque eletrônico',\n",
    "                                   'Feminino',\n",
    "                                   'Fibra ótica',\n",
    "                                   'Cheque por correio',\n",
    "                                   'Masculino',\n",
    "                                   'Mês a mês',\n",
    "                                   'Não',\n",
    "                                   'Sem serviço de internet',\n",
    "                                   'Sem serviço telefônico',\n",
    "                                   'Um ano',\n",
    "                                   'Dois anos',\n",
    "                                   'Sim'\n",
    "                                   ]\n",
    "\n",
    "df_base_traduzido = df_base.replace(lista_valores_unicos[3:], lista_valores_unicos_traduzidos)\n",
    "df_base_traduzido.sample(5)"
   ]
  },
  {
   "cell_type": "code",
   "execution_count": 15,
   "id": "DUhk-TQJWM7q",
   "metadata": {
    "colab": {
     "base_uri": "https://localhost:8080/"
    },
    "id": "DUhk-TQJWM7q",
    "outputId": "a217eaed-1d23-4d56-933d-c51d2c041f4f"
   },
   "outputs": [
    {
     "name": "stdout",
     "output_type": "stream",
     "text": [
      "Churn: ['Não' 'Sim' '']\n",
      "genero_cliente: ['Feminino' 'Masculino']\n",
      "mais_que_65_anos: [0 1]\n",
      "possui_parceiro_a: ['Sim' 'Não']\n",
      "possui_dependentes: ['Sim' 'Não']\n",
      "meses_contrato contém muitos valores únicos, analisar com maior detalhamento.\n",
      "servico_telefonico: ['Sim' 'Não']\n",
      "multiplas_linhas: ['Não' 'Sim' 'Sem serviço telefônico']\n",
      "servico_internet: ['DSL' 'Fibra ótica' 'Não']\n",
      "assinatura_seguranca: ['Não' 'Sim' 'Sem serviço de internet']\n",
      "assinatura_backup: ['Sim' 'Não' 'Sem serviço de internet']\n",
      "assinatura_protecao_dispositivo: ['Não' 'Sim' 'Sem serviço de internet']\n",
      "assinatura_suporte: ['Sim' 'Não' 'Sem serviço de internet']\n",
      "assinatura_TV: ['Sim' 'Não' 'Sem serviço de internet']\n",
      "assinatura_streaming: ['Não' 'Sim' 'Sem serviço de internet']\n",
      "contrato: ['Um ano' 'Mês a mês' 'Dois anos']\n",
      "fatura_digital: ['Sim' 'Não']\n",
      "forma_pagamento: ['Cheque por correio' 'Cheque eletrônico' 'Cartão de crédito (automático)'\n",
      " 'Transferência bancária (automática)']\n",
      "total_servicos_mes contém muitos valores únicos, analisar com maior detalhamento.\n",
      "total_gasto contém muitos valores únicos, analisar com maior detalhamento.\n"
     ]
    },
    {
     "data": {
      "text/plain": [
       "['',\n",
       " 0,\n",
       " 1,\n",
       " 'Cheque por correio',\n",
       " 'Cartão de crédito (automático)',\n",
       " 'Fibra ótica',\n",
       " 'DSL',\n",
       " 'Um ano',\n",
       " 'Dois anos',\n",
       " 'Não',\n",
       " 'Feminino',\n",
       " 'Masculino',\n",
       " 'Mês a mês',\n",
       " 'Transferência bancária (automática)',\n",
       " 'Sem serviço telefônico',\n",
       " 'Sem serviço de internet',\n",
       " 'Cheque eletrônico',\n",
       " 'Sim']"
      ]
     },
     "execution_count": 15,
     "metadata": {},
     "output_type": "execute_result"
    }
   ],
   "source": [
    "valores_unicos(df_base_traduzido)"
   ]
  },
  {
   "cell_type": "code",
   "execution_count": 16,
   "id": "kOlhTpwpSHif",
   "metadata": {
    "colab": {
     "base_uri": "https://localhost:8080/",
     "height": 191
    },
    "id": "kOlhTpwpSHif",
    "outputId": "06374a47-de8c-4bbd-d8a7-eea1332321bc"
   },
   "outputs": [
    {
     "data": {
      "text/plain": [
       "Churn\n",
       "        224\n",
       "Não    5174\n",
       "Sim    1869\n",
       "Name: clienteID, dtype: int64"
      ]
     },
     "metadata": {},
     "output_type": "display_data"
    },
    {
     "data": {
      "text/plain": [
       "Churn\n",
       "        3.082427\n",
       "Não    71.198569\n",
       "Sim    25.719004\n",
       "Name: clienteID, dtype: float64"
      ]
     },
     "metadata": {},
     "output_type": "display_data"
    }
   ],
   "source": [
    "display((df_base_traduzido.groupby('Churn').count()['clienteID']))\n",
    "display((df_base_traduzido.groupby('Churn').count()['clienteID'] / df_base_traduzido.Churn.count() * 100))\n"
   ]
  },
  {
   "cell_type": "markdown",
   "id": "cl489effRPui",
   "metadata": {
    "id": "cl489effRPui"
   },
   "source": [
    "Com a informação dos valores únicos, foi possível perceber que a coluna Churn possui, além de Yes e No, valores vazios. Para ser mais preciso, 224 ocorrências, ou 3,08%.\n",
    "\n",
    "O foco do estudo é endenter o comportamento de clientes usando como variável dependente o Churn e por isto não vejo sentido em manter as linhas em que este valore está vazio, além do que, a quantidade de vazios não é expressiva\n",
    "\n",
    "Para fazer isto, utilizei a função .drop e .reset_index."
   ]
  },
  {
   "cell_type": "code",
   "execution_count": 17,
   "id": "DpPqqxNhR0aC",
   "metadata": {
    "colab": {
     "base_uri": "https://localhost:8080/",
     "height": 404
    },
    "id": "DpPqqxNhR0aC",
    "outputId": "05bed6f7-2151-47ce-bb12-9d978a64ed33"
   },
   "outputs": [
    {
     "data": {
      "text/html": [
       "<div>\n",
       "<style scoped>\n",
       "    .dataframe tbody tr th:only-of-type {\n",
       "        vertical-align: middle;\n",
       "    }\n",
       "\n",
       "    .dataframe tbody tr th {\n",
       "        vertical-align: top;\n",
       "    }\n",
       "\n",
       "    .dataframe thead th {\n",
       "        text-align: right;\n",
       "    }\n",
       "</style>\n",
       "<table border=\"1\" class=\"dataframe\">\n",
       "  <thead>\n",
       "    <tr style=\"text-align: right;\">\n",
       "      <th></th>\n",
       "      <th>clienteID</th>\n",
       "      <th>Churn</th>\n",
       "      <th>genero_cliente</th>\n",
       "      <th>mais_que_65_anos</th>\n",
       "      <th>possui_parceiro_a</th>\n",
       "      <th>possui_dependentes</th>\n",
       "      <th>meses_contrato</th>\n",
       "      <th>servico_telefonico</th>\n",
       "      <th>multiplas_linhas</th>\n",
       "      <th>servico_internet</th>\n",
       "      <th>...</th>\n",
       "      <th>assinatura_backup</th>\n",
       "      <th>assinatura_protecao_dispositivo</th>\n",
       "      <th>assinatura_suporte</th>\n",
       "      <th>assinatura_TV</th>\n",
       "      <th>assinatura_streaming</th>\n",
       "      <th>contrato</th>\n",
       "      <th>fatura_digital</th>\n",
       "      <th>forma_pagamento</th>\n",
       "      <th>total_servicos_mes</th>\n",
       "      <th>total_gasto</th>\n",
       "    </tr>\n",
       "  </thead>\n",
       "  <tbody>\n",
       "    <tr>\n",
       "      <th>1688</th>\n",
       "      <td>2391-IPLOP</td>\n",
       "      <td>Não</td>\n",
       "      <td>Masculino</td>\n",
       "      <td>0</td>\n",
       "      <td>Sim</td>\n",
       "      <td>Sim</td>\n",
       "      <td>50</td>\n",
       "      <td>Sim</td>\n",
       "      <td>Sim</td>\n",
       "      <td>DSL</td>\n",
       "      <td>...</td>\n",
       "      <td>Não</td>\n",
       "      <td>Sim</td>\n",
       "      <td>Sim</td>\n",
       "      <td>Sim</td>\n",
       "      <td>Não</td>\n",
       "      <td>Um ano</td>\n",
       "      <td>Sim</td>\n",
       "      <td>Cheque eletrônico</td>\n",
       "      <td>69.65</td>\n",
       "      <td>3442.15</td>\n",
       "    </tr>\n",
       "    <tr>\n",
       "      <th>115</th>\n",
       "      <td>0196-JTUQI</td>\n",
       "      <td>Não</td>\n",
       "      <td>Feminino</td>\n",
       "      <td>0</td>\n",
       "      <td>Não</td>\n",
       "      <td>Não</td>\n",
       "      <td>9</td>\n",
       "      <td>Sim</td>\n",
       "      <td>Sim</td>\n",
       "      <td>Fibra ótica</td>\n",
       "      <td>...</td>\n",
       "      <td>Não</td>\n",
       "      <td>Não</td>\n",
       "      <td>Não</td>\n",
       "      <td>Não</td>\n",
       "      <td>Não</td>\n",
       "      <td>Mês a mês</td>\n",
       "      <td>Sim</td>\n",
       "      <td>Cartão de crédito (automático)</td>\n",
       "      <td>75.20</td>\n",
       "      <td>633.85</td>\n",
       "    </tr>\n",
       "    <tr>\n",
       "      <th>2068</th>\n",
       "      <td>2911-IJORQ</td>\n",
       "      <td>Não</td>\n",
       "      <td>Masculino</td>\n",
       "      <td>0</td>\n",
       "      <td>Não</td>\n",
       "      <td>Não</td>\n",
       "      <td>37</td>\n",
       "      <td>Sim</td>\n",
       "      <td>Sim</td>\n",
       "      <td>DSL</td>\n",
       "      <td>...</td>\n",
       "      <td>Sim</td>\n",
       "      <td>Sim</td>\n",
       "      <td>Sim</td>\n",
       "      <td>Sim</td>\n",
       "      <td>Sim</td>\n",
       "      <td>Um ano</td>\n",
       "      <td>Sim</td>\n",
       "      <td>Transferência bancária (automática)</td>\n",
       "      <td>90.60</td>\n",
       "      <td>3358.65</td>\n",
       "    </tr>\n",
       "    <tr>\n",
       "      <th>5284</th>\n",
       "      <td>7218-HKQFK</td>\n",
       "      <td>Sim</td>\n",
       "      <td>Masculino</td>\n",
       "      <td>0</td>\n",
       "      <td>Sim</td>\n",
       "      <td>Não</td>\n",
       "      <td>2</td>\n",
       "      <td>Sim</td>\n",
       "      <td>Não</td>\n",
       "      <td>Fibra ótica</td>\n",
       "      <td>...</td>\n",
       "      <td>Não</td>\n",
       "      <td>Não</td>\n",
       "      <td>Sim</td>\n",
       "      <td>Sim</td>\n",
       "      <td>Sim</td>\n",
       "      <td>Mês a mês</td>\n",
       "      <td>Sim</td>\n",
       "      <td>Cheque eletrônico</td>\n",
       "      <td>94.20</td>\n",
       "      <td>167.50</td>\n",
       "    </tr>\n",
       "    <tr>\n",
       "      <th>1085</th>\n",
       "      <td>1536-YHDOE</td>\n",
       "      <td>Não</td>\n",
       "      <td>Masculino</td>\n",
       "      <td>0</td>\n",
       "      <td>Sim</td>\n",
       "      <td>Sim</td>\n",
       "      <td>17</td>\n",
       "      <td>Sim</td>\n",
       "      <td>Sim</td>\n",
       "      <td>DSL</td>\n",
       "      <td>...</td>\n",
       "      <td>Não</td>\n",
       "      <td>Não</td>\n",
       "      <td>Sim</td>\n",
       "      <td>Não</td>\n",
       "      <td>Não</td>\n",
       "      <td>Um ano</td>\n",
       "      <td>Sim</td>\n",
       "      <td>Cheque por correio</td>\n",
       "      <td>62.10</td>\n",
       "      <td>1096.65</td>\n",
       "    </tr>\n",
       "  </tbody>\n",
       "</table>\n",
       "<p>5 rows × 21 columns</p>\n",
       "</div>"
      ],
      "text/plain": [
       "       clienteID Churn genero_cliente  mais_que_65_anos possui_parceiro_a  \\\n",
       "1688  2391-IPLOP   Não      Masculino                 0               Sim   \n",
       "115   0196-JTUQI   Não       Feminino                 0               Não   \n",
       "2068  2911-IJORQ   Não      Masculino                 0               Não   \n",
       "5284  7218-HKQFK   Sim      Masculino                 0               Sim   \n",
       "1085  1536-YHDOE   Não      Masculino                 0               Sim   \n",
       "\n",
       "     possui_dependentes  meses_contrato servico_telefonico multiplas_linhas  \\\n",
       "1688                Sim              50                Sim              Sim   \n",
       "115                 Não               9                Sim              Sim   \n",
       "2068                Não              37                Sim              Sim   \n",
       "5284                Não               2                Sim              Não   \n",
       "1085                Sim              17                Sim              Sim   \n",
       "\n",
       "     servico_internet  ... assinatura_backup assinatura_protecao_dispositivo  \\\n",
       "1688              DSL  ...               Não                             Sim   \n",
       "115       Fibra ótica  ...               Não                             Não   \n",
       "2068              DSL  ...               Sim                             Sim   \n",
       "5284      Fibra ótica  ...               Não                             Não   \n",
       "1085              DSL  ...               Não                             Não   \n",
       "\n",
       "     assinatura_suporte assinatura_TV assinatura_streaming   contrato  \\\n",
       "1688                Sim           Sim                  Não     Um ano   \n",
       "115                 Não           Não                  Não  Mês a mês   \n",
       "2068                Sim           Sim                  Sim     Um ano   \n",
       "5284                Sim           Sim                  Sim  Mês a mês   \n",
       "1085                Sim           Não                  Não     Um ano   \n",
       "\n",
       "     fatura_digital                      forma_pagamento total_servicos_mes  \\\n",
       "1688            Sim                    Cheque eletrônico              69.65   \n",
       "115             Sim       Cartão de crédito (automático)              75.20   \n",
       "2068            Sim  Transferência bancária (automática)              90.60   \n",
       "5284            Sim                    Cheque eletrônico              94.20   \n",
       "1085            Sim                   Cheque por correio              62.10   \n",
       "\n",
       "      total_gasto  \n",
       "1688      3442.15  \n",
       "115        633.85  \n",
       "2068      3358.65  \n",
       "5284       167.50  \n",
       "1085      1096.65  \n",
       "\n",
       "[5 rows x 21 columns]"
      ]
     },
     "execution_count": 17,
     "metadata": {},
     "output_type": "execute_result"
    }
   ],
   "source": [
    "df_base_traduzido.drop(df_base[df_base.Churn == ''].index, inplace = True)\n",
    "df_base_traduzido.reset_index(drop = True)\n",
    "df_base_traduzido.sample(5)"
   ]
  },
  {
   "cell_type": "markdown",
   "id": "lp7H7QUyQXuT",
   "metadata": {
    "id": "lp7H7QUyQXuT"
   },
   "source": [
    "Outro dado interessante para ter no dataframe é o gasto diário médio.\n",
    "\n",
    "Achei interessante validar se o total_servicos_mes coincide com o total_gasto dividido por meses_contrato, pois assim será possível escolher qual o melhor valor para calcular o gasto diário."
   ]
  },
  {
   "cell_type": "code",
   "execution_count": 18,
   "id": "qyDhAlvFQaXv",
   "metadata": {
    "colab": {
     "base_uri": "https://localhost:8080/",
     "height": 542
    },
    "id": "qyDhAlvFQaXv",
    "outputId": "38834d59-69f5-4ccd-bf80-19ad403e7179",
    "scrolled": true
   },
   "outputs": [
    {
     "ename": "ValueError",
     "evalue": "autodetected range of [-19.13, inf] is not finite",
     "output_type": "error",
     "traceback": [
      "\u001b[1;31m---------------------------------------------------------------------------\u001b[0m",
      "\u001b[1;31mValueError\u001b[0m                                Traceback (most recent call last)",
      "\u001b[1;32m<ipython-input-18-481e208d4698>\u001b[0m in \u001b[0;36m<module>\u001b[1;34m\u001b[0m\n\u001b[0;32m      1\u001b[0m \u001b[0mdf_base_traduzido\u001b[0m\u001b[1;33m[\u001b[0m\u001b[1;34m'teste'\u001b[0m\u001b[1;33m]\u001b[0m \u001b[1;33m=\u001b[0m \u001b[0mround\u001b[0m\u001b[1;33m(\u001b[0m\u001b[0mnp\u001b[0m\u001b[1;33m.\u001b[0m\u001b[0mdivide\u001b[0m\u001b[1;33m(\u001b[0m\u001b[0mdf_base_traduzido\u001b[0m\u001b[1;33m.\u001b[0m\u001b[0mtotal_gasto\u001b[0m\u001b[1;33m,\u001b[0m \u001b[0mdf_base_traduzido\u001b[0m\u001b[1;33m.\u001b[0m\u001b[0mmeses_contrato\u001b[0m\u001b[1;33m)\u001b[0m \u001b[1;33m-\u001b[0m \u001b[0mdf_base_traduzido\u001b[0m\u001b[1;33m.\u001b[0m\u001b[0mtotal_servicos_mes\u001b[0m\u001b[1;33m,\u001b[0m \u001b[1;36m2\u001b[0m\u001b[1;33m)\u001b[0m\u001b[1;33m\u001b[0m\u001b[1;33m\u001b[0m\u001b[0m\n\u001b[1;32m----> 2\u001b[1;33m \u001b[0mdf_base_traduzido\u001b[0m\u001b[1;33m.\u001b[0m\u001b[0mteste\u001b[0m\u001b[1;33m.\u001b[0m\u001b[0mplot\u001b[0m\u001b[1;33m(\u001b[0m\u001b[0mkind\u001b[0m\u001b[1;33m=\u001b[0m\u001b[1;34m'hist'\u001b[0m\u001b[1;33m)\u001b[0m\u001b[1;33m\u001b[0m\u001b[1;33m\u001b[0m\u001b[0m\n\u001b[0m",
      "\u001b[1;32m~\\anaconda3\\lib\\site-packages\\pandas\\plotting\\_core.py\u001b[0m in \u001b[0;36m__call__\u001b[1;34m(self, *args, **kwargs)\u001b[0m\n\u001b[0;32m    953\u001b[0m                     \u001b[0mdata\u001b[0m\u001b[1;33m.\u001b[0m\u001b[0mcolumns\u001b[0m \u001b[1;33m=\u001b[0m \u001b[0mlabel_name\u001b[0m\u001b[1;33m\u001b[0m\u001b[1;33m\u001b[0m\u001b[0m\n\u001b[0;32m    954\u001b[0m \u001b[1;33m\u001b[0m\u001b[0m\n\u001b[1;32m--> 955\u001b[1;33m         \u001b[1;32mreturn\u001b[0m \u001b[0mplot_backend\u001b[0m\u001b[1;33m.\u001b[0m\u001b[0mplot\u001b[0m\u001b[1;33m(\u001b[0m\u001b[0mdata\u001b[0m\u001b[1;33m,\u001b[0m \u001b[0mkind\u001b[0m\u001b[1;33m=\u001b[0m\u001b[0mkind\u001b[0m\u001b[1;33m,\u001b[0m \u001b[1;33m**\u001b[0m\u001b[0mkwargs\u001b[0m\u001b[1;33m)\u001b[0m\u001b[1;33m\u001b[0m\u001b[1;33m\u001b[0m\u001b[0m\n\u001b[0m\u001b[0;32m    956\u001b[0m \u001b[1;33m\u001b[0m\u001b[0m\n\u001b[0;32m    957\u001b[0m     \u001b[0m__call__\u001b[0m\u001b[1;33m.\u001b[0m\u001b[0m__doc__\u001b[0m \u001b[1;33m=\u001b[0m \u001b[0m__doc__\u001b[0m\u001b[1;33m\u001b[0m\u001b[1;33m\u001b[0m\u001b[0m\n",
      "\u001b[1;32m~\\anaconda3\\lib\\site-packages\\pandas\\plotting\\_matplotlib\\__init__.py\u001b[0m in \u001b[0;36mplot\u001b[1;34m(data, kind, **kwargs)\u001b[0m\n\u001b[0;32m     59\u001b[0m             \u001b[0mkwargs\u001b[0m\u001b[1;33m[\u001b[0m\u001b[1;34m\"ax\"\u001b[0m\u001b[1;33m]\u001b[0m \u001b[1;33m=\u001b[0m \u001b[0mgetattr\u001b[0m\u001b[1;33m(\u001b[0m\u001b[0max\u001b[0m\u001b[1;33m,\u001b[0m \u001b[1;34m\"left_ax\"\u001b[0m\u001b[1;33m,\u001b[0m \u001b[0max\u001b[0m\u001b[1;33m)\u001b[0m\u001b[1;33m\u001b[0m\u001b[1;33m\u001b[0m\u001b[0m\n\u001b[0;32m     60\u001b[0m     \u001b[0mplot_obj\u001b[0m \u001b[1;33m=\u001b[0m \u001b[0mPLOT_CLASSES\u001b[0m\u001b[1;33m[\u001b[0m\u001b[0mkind\u001b[0m\u001b[1;33m]\u001b[0m\u001b[1;33m(\u001b[0m\u001b[0mdata\u001b[0m\u001b[1;33m,\u001b[0m \u001b[1;33m**\u001b[0m\u001b[0mkwargs\u001b[0m\u001b[1;33m)\u001b[0m\u001b[1;33m\u001b[0m\u001b[1;33m\u001b[0m\u001b[0m\n\u001b[1;32m---> 61\u001b[1;33m     \u001b[0mplot_obj\u001b[0m\u001b[1;33m.\u001b[0m\u001b[0mgenerate\u001b[0m\u001b[1;33m(\u001b[0m\u001b[1;33m)\u001b[0m\u001b[1;33m\u001b[0m\u001b[1;33m\u001b[0m\u001b[0m\n\u001b[0m\u001b[0;32m     62\u001b[0m     \u001b[0mplot_obj\u001b[0m\u001b[1;33m.\u001b[0m\u001b[0mdraw\u001b[0m\u001b[1;33m(\u001b[0m\u001b[1;33m)\u001b[0m\u001b[1;33m\u001b[0m\u001b[1;33m\u001b[0m\u001b[0m\n\u001b[0;32m     63\u001b[0m     \u001b[1;32mreturn\u001b[0m \u001b[0mplot_obj\u001b[0m\u001b[1;33m.\u001b[0m\u001b[0mresult\u001b[0m\u001b[1;33m\u001b[0m\u001b[1;33m\u001b[0m\u001b[0m\n",
      "\u001b[1;32m~\\anaconda3\\lib\\site-packages\\pandas\\plotting\\_matplotlib\\core.py\u001b[0m in \u001b[0;36mgenerate\u001b[1;34m(self)\u001b[0m\n\u001b[0;32m    275\u001b[0m \u001b[1;33m\u001b[0m\u001b[0m\n\u001b[0;32m    276\u001b[0m     \u001b[1;32mdef\u001b[0m \u001b[0mgenerate\u001b[0m\u001b[1;33m(\u001b[0m\u001b[0mself\u001b[0m\u001b[1;33m)\u001b[0m\u001b[1;33m:\u001b[0m\u001b[1;33m\u001b[0m\u001b[1;33m\u001b[0m\u001b[0m\n\u001b[1;32m--> 277\u001b[1;33m         \u001b[0mself\u001b[0m\u001b[1;33m.\u001b[0m\u001b[0m_args_adjust\u001b[0m\u001b[1;33m(\u001b[0m\u001b[1;33m)\u001b[0m\u001b[1;33m\u001b[0m\u001b[1;33m\u001b[0m\u001b[0m\n\u001b[0m\u001b[0;32m    278\u001b[0m         \u001b[0mself\u001b[0m\u001b[1;33m.\u001b[0m\u001b[0m_compute_plot_data\u001b[0m\u001b[1;33m(\u001b[0m\u001b[1;33m)\u001b[0m\u001b[1;33m\u001b[0m\u001b[1;33m\u001b[0m\u001b[0m\n\u001b[0;32m    279\u001b[0m         \u001b[0mself\u001b[0m\u001b[1;33m.\u001b[0m\u001b[0m_setup_subplots\u001b[0m\u001b[1;33m(\u001b[0m\u001b[1;33m)\u001b[0m\u001b[1;33m\u001b[0m\u001b[1;33m\u001b[0m\u001b[0m\n",
      "\u001b[1;32m~\\anaconda3\\lib\\site-packages\\pandas\\plotting\\_matplotlib\\hist.py\u001b[0m in \u001b[0;36m_args_adjust\u001b[1;34m(self)\u001b[0m\n\u001b[0;32m     35\u001b[0m             \u001b[0mvalues\u001b[0m \u001b[1;33m=\u001b[0m \u001b[0mvalues\u001b[0m\u001b[1;33m[\u001b[0m\u001b[1;33m~\u001b[0m\u001b[0misna\u001b[0m\u001b[1;33m(\u001b[0m\u001b[0mvalues\u001b[0m\u001b[1;33m)\u001b[0m\u001b[1;33m]\u001b[0m\u001b[1;33m\u001b[0m\u001b[1;33m\u001b[0m\u001b[0m\n\u001b[0;32m     36\u001b[0m \u001b[1;33m\u001b[0m\u001b[0m\n\u001b[1;32m---> 37\u001b[1;33m             _, self.bins = np.histogram(\n\u001b[0m\u001b[0;32m     38\u001b[0m                 \u001b[0mvalues\u001b[0m\u001b[1;33m,\u001b[0m \u001b[0mbins\u001b[0m\u001b[1;33m=\u001b[0m\u001b[0mself\u001b[0m\u001b[1;33m.\u001b[0m\u001b[0mbins\u001b[0m\u001b[1;33m,\u001b[0m \u001b[0mrange\u001b[0m\u001b[1;33m=\u001b[0m\u001b[0mself\u001b[0m\u001b[1;33m.\u001b[0m\u001b[0mkwds\u001b[0m\u001b[1;33m.\u001b[0m\u001b[0mget\u001b[0m\u001b[1;33m(\u001b[0m\u001b[1;34m\"range\"\u001b[0m\u001b[1;33m,\u001b[0m \u001b[1;32mNone\u001b[0m\u001b[1;33m)\u001b[0m\u001b[1;33m\u001b[0m\u001b[1;33m\u001b[0m\u001b[0m\n\u001b[0;32m     39\u001b[0m             )\n",
      "\u001b[1;32m~\\anaconda3\\lib\\site-packages\\numpy\\core\\overrides.py\u001b[0m in \u001b[0;36mhistogram\u001b[1;34m(*args, **kwargs)\u001b[0m\n",
      "\u001b[1;32m~\\anaconda3\\lib\\site-packages\\numpy\\lib\\histograms.py\u001b[0m in \u001b[0;36mhistogram\u001b[1;34m(a, bins, range, normed, weights, density)\u001b[0m\n\u001b[0;32m    791\u001b[0m     \u001b[0ma\u001b[0m\u001b[1;33m,\u001b[0m \u001b[0mweights\u001b[0m \u001b[1;33m=\u001b[0m \u001b[0m_ravel_and_check_weights\u001b[0m\u001b[1;33m(\u001b[0m\u001b[0ma\u001b[0m\u001b[1;33m,\u001b[0m \u001b[0mweights\u001b[0m\u001b[1;33m)\u001b[0m\u001b[1;33m\u001b[0m\u001b[1;33m\u001b[0m\u001b[0m\n\u001b[0;32m    792\u001b[0m \u001b[1;33m\u001b[0m\u001b[0m\n\u001b[1;32m--> 793\u001b[1;33m     \u001b[0mbin_edges\u001b[0m\u001b[1;33m,\u001b[0m \u001b[0muniform_bins\u001b[0m \u001b[1;33m=\u001b[0m \u001b[0m_get_bin_edges\u001b[0m\u001b[1;33m(\u001b[0m\u001b[0ma\u001b[0m\u001b[1;33m,\u001b[0m \u001b[0mbins\u001b[0m\u001b[1;33m,\u001b[0m \u001b[0mrange\u001b[0m\u001b[1;33m,\u001b[0m \u001b[0mweights\u001b[0m\u001b[1;33m)\u001b[0m\u001b[1;33m\u001b[0m\u001b[1;33m\u001b[0m\u001b[0m\n\u001b[0m\u001b[0;32m    794\u001b[0m \u001b[1;33m\u001b[0m\u001b[0m\n\u001b[0;32m    795\u001b[0m     \u001b[1;31m# Histogram is an integer or a float array depending on the weights.\u001b[0m\u001b[1;33m\u001b[0m\u001b[1;33m\u001b[0m\u001b[1;33m\u001b[0m\u001b[0m\n",
      "\u001b[1;32m~\\anaconda3\\lib\\site-packages\\numpy\\lib\\histograms.py\u001b[0m in \u001b[0;36m_get_bin_edges\u001b[1;34m(a, bins, range, weights)\u001b[0m\n\u001b[0;32m    424\u001b[0m             \u001b[1;32mraise\u001b[0m \u001b[0mValueError\u001b[0m\u001b[1;33m(\u001b[0m\u001b[1;34m'`bins` must be positive, when an integer'\u001b[0m\u001b[1;33m)\u001b[0m\u001b[1;33m\u001b[0m\u001b[1;33m\u001b[0m\u001b[0m\n\u001b[0;32m    425\u001b[0m \u001b[1;33m\u001b[0m\u001b[0m\n\u001b[1;32m--> 426\u001b[1;33m         \u001b[0mfirst_edge\u001b[0m\u001b[1;33m,\u001b[0m \u001b[0mlast_edge\u001b[0m \u001b[1;33m=\u001b[0m \u001b[0m_get_outer_edges\u001b[0m\u001b[1;33m(\u001b[0m\u001b[0ma\u001b[0m\u001b[1;33m,\u001b[0m \u001b[0mrange\u001b[0m\u001b[1;33m)\u001b[0m\u001b[1;33m\u001b[0m\u001b[1;33m\u001b[0m\u001b[0m\n\u001b[0m\u001b[0;32m    427\u001b[0m \u001b[1;33m\u001b[0m\u001b[0m\n\u001b[0;32m    428\u001b[0m     \u001b[1;32melif\u001b[0m \u001b[0mnp\u001b[0m\u001b[1;33m.\u001b[0m\u001b[0mndim\u001b[0m\u001b[1;33m(\u001b[0m\u001b[0mbins\u001b[0m\u001b[1;33m)\u001b[0m \u001b[1;33m==\u001b[0m \u001b[1;36m1\u001b[0m\u001b[1;33m:\u001b[0m\u001b[1;33m\u001b[0m\u001b[1;33m\u001b[0m\u001b[0m\n",
      "\u001b[1;32m~\\anaconda3\\lib\\site-packages\\numpy\\lib\\histograms.py\u001b[0m in \u001b[0;36m_get_outer_edges\u001b[1;34m(a, range)\u001b[0m\n\u001b[0;32m    321\u001b[0m         \u001b[0mfirst_edge\u001b[0m\u001b[1;33m,\u001b[0m \u001b[0mlast_edge\u001b[0m \u001b[1;33m=\u001b[0m \u001b[0ma\u001b[0m\u001b[1;33m.\u001b[0m\u001b[0mmin\u001b[0m\u001b[1;33m(\u001b[0m\u001b[1;33m)\u001b[0m\u001b[1;33m,\u001b[0m \u001b[0ma\u001b[0m\u001b[1;33m.\u001b[0m\u001b[0mmax\u001b[0m\u001b[1;33m(\u001b[0m\u001b[1;33m)\u001b[0m\u001b[1;33m\u001b[0m\u001b[1;33m\u001b[0m\u001b[0m\n\u001b[0;32m    322\u001b[0m         \u001b[1;32mif\u001b[0m \u001b[1;32mnot\u001b[0m \u001b[1;33m(\u001b[0m\u001b[0mnp\u001b[0m\u001b[1;33m.\u001b[0m\u001b[0misfinite\u001b[0m\u001b[1;33m(\u001b[0m\u001b[0mfirst_edge\u001b[0m\u001b[1;33m)\u001b[0m \u001b[1;32mand\u001b[0m \u001b[0mnp\u001b[0m\u001b[1;33m.\u001b[0m\u001b[0misfinite\u001b[0m\u001b[1;33m(\u001b[0m\u001b[0mlast_edge\u001b[0m\u001b[1;33m)\u001b[0m\u001b[1;33m)\u001b[0m\u001b[1;33m:\u001b[0m\u001b[1;33m\u001b[0m\u001b[1;33m\u001b[0m\u001b[0m\n\u001b[1;32m--> 323\u001b[1;33m             raise ValueError(\n\u001b[0m\u001b[0;32m    324\u001b[0m                 \"autodetected range of [{}, {}] is not finite\".format(first_edge, last_edge))\n\u001b[0;32m    325\u001b[0m \u001b[1;33m\u001b[0m\u001b[0m\n",
      "\u001b[1;31mValueError\u001b[0m: autodetected range of [-19.13, inf] is not finite"
     ]
    }
   ],
   "source": [
    "df_base_traduzido['teste'] = round(np.divide(df_base_traduzido.total_gasto, df_base_traduzido.meses_contrato) - df_base_traduzido.total_servicos_mes, 2)\n",
    "df_base_traduzido.teste.plot(kind='hist')"
   ]
  },
  {
   "cell_type": "markdown",
   "id": "adeb5907",
   "metadata": {},
   "source": [
    "Como a divisão resultou em alguns valores inf (infinito), fiz uma ordenação dos valores para verificar o último valor antes dos inf's, para então montar um histograma e verificar como ficou a distribuição do teste.\n",
    "\n",
    "Descobrindo, como demonstrado abaixo, que o maior valor é 18.9."
   ]
  },
  {
   "cell_type": "code",
   "execution_count": 19,
   "id": "3969c7f2",
   "metadata": {},
   "outputs": [
    {
     "data": {
      "text/plain": [
       "2240    13.50\n",
       "213     14.02\n",
       "2696    14.90\n",
       "1606    15.13\n",
       "1307    17.00\n",
       "3744    17.07\n",
       "3423    17.12\n",
       "3403    17.93\n",
       "6160    18.90\n",
       "975       inf\n",
       "5599      inf\n",
       "1955      inf\n",
       "2308      inf\n",
       "2232      inf\n",
       "2075      inf\n",
       "3203      inf\n",
       "3134      inf\n",
       "2930      inf\n",
       "4169      inf\n",
       "1775      inf\n",
       "Name: teste, dtype: float64"
      ]
     },
     "execution_count": 19,
     "metadata": {},
     "output_type": "execute_result"
    }
   ],
   "source": [
    "df_base_traduzido.teste.sort_values(ascending = True).tail(20)"
   ]
  },
  {
   "cell_type": "markdown",
   "id": "2b3f7230",
   "metadata": {},
   "source": [
    "Agora, basta aplicar o filtro e criar o gráfico."
   ]
  },
  {
   "cell_type": "code",
   "execution_count": 20,
   "id": "8ad78dd4",
   "metadata": {},
   "outputs": [
    {
     "data": {
      "text/plain": [
       "<matplotlib.axes._subplots.AxesSubplot at 0x15fa2365040>"
      ]
     },
     "execution_count": 20,
     "metadata": {},
     "output_type": "execute_result"
    },
    {
     "data": {
      "image/png": "[encoded data removed]",
      "text/plain": [
       "<Figure size 864x504 with 1 Axes>"
      ]
     },
     "metadata": {
      "needs_background": "light"
     },
     "output_type": "display_data"
    }
   ],
   "source": [
    "df_base_traduzido[df_base_traduzido.teste < 19].teste.plot(kind='hist', bins = 75, figsize = (12, 7))"
   ]
  },
  {
   "cell_type": "markdown",
   "id": "f44aa12d",
   "metadata": {},
   "source": [
    "Como resultado desta comparação, identifiquei que o gasto do mês não é o gasto total dividido pela quantidade de meses de serviço, mas possivelmente é o valor gasto no último mês de cada cliente.\n",
    "\n",
    "A coluna teste não será mais útil e pode ser excluída do dataframe.\n",
    "\n",
    "Por conta disto, foquei o cálculo do gasto diário na coluna total_gasto dividido pela quantidade de meses de serviço multiplicado por 30.\n",
    "\n",
    "Para criar essa coluna, fiz uma *list comprehension*, validando a coluna meses_contrato. Caso esta coluna possua valor maior que 0, basta dividir o total_gasto por meses_contrato vezes 30, do contrário apenas dividir total_gasto por 30."
   ]
  },
  {
   "cell_type": "code",
   "execution_count": 21,
   "id": "faabf24d",
   "metadata": {
    "colab": {
     "base_uri": "https://localhost:8080/",
     "height": 386
    },
    "id": "faabf24d",
    "outputId": "4f50386c-96cf-4ae4-f273-d5cab430a02f"
   },
   "outputs": [
    {
     "data": {
      "text/html": [
       "<div>\n",
       "<style scoped>\n",
       "    .dataframe tbody tr th:only-of-type {\n",
       "        vertical-align: middle;\n",
       "    }\n",
       "\n",
       "    .dataframe tbody tr th {\n",
       "        vertical-align: top;\n",
       "    }\n",
       "\n",
       "    .dataframe thead th {\n",
       "        text-align: right;\n",
       "    }\n",
       "</style>\n",
       "<table border=\"1\" class=\"dataframe\">\n",
       "  <thead>\n",
       "    <tr style=\"text-align: right;\">\n",
       "      <th></th>\n",
       "      <th>clienteID</th>\n",
       "      <th>Churn</th>\n",
       "      <th>genero_cliente</th>\n",
       "      <th>mais_que_65_anos</th>\n",
       "      <th>possui_parceiro_a</th>\n",
       "      <th>possui_dependentes</th>\n",
       "      <th>meses_contrato</th>\n",
       "      <th>servico_telefonico</th>\n",
       "      <th>multiplas_linhas</th>\n",
       "      <th>servico_internet</th>\n",
       "      <th>...</th>\n",
       "      <th>assinatura_protecao_dispositivo</th>\n",
       "      <th>assinatura_suporte</th>\n",
       "      <th>assinatura_TV</th>\n",
       "      <th>assinatura_streaming</th>\n",
       "      <th>contrato</th>\n",
       "      <th>fatura_digital</th>\n",
       "      <th>forma_pagamento</th>\n",
       "      <th>total_servicos_mes</th>\n",
       "      <th>total_gasto</th>\n",
       "      <th>gastos_diarios</th>\n",
       "    </tr>\n",
       "  </thead>\n",
       "  <tbody>\n",
       "    <tr>\n",
       "      <th>7136</th>\n",
       "      <td>9821-POOTN</td>\n",
       "      <td>Sim</td>\n",
       "      <td>Masculino</td>\n",
       "      <td>0</td>\n",
       "      <td>Sim</td>\n",
       "      <td>Não</td>\n",
       "      <td>35</td>\n",
       "      <td>Sim</td>\n",
       "      <td>Sim</td>\n",
       "      <td>Fibra ótica</td>\n",
       "      <td>...</td>\n",
       "      <td>Não</td>\n",
       "      <td>Não</td>\n",
       "      <td>Não</td>\n",
       "      <td>Não</td>\n",
       "      <td>Mês a mês</td>\n",
       "      <td>Sim</td>\n",
       "      <td>Cheque eletrônico</td>\n",
       "      <td>75.20</td>\n",
       "      <td>2576.20</td>\n",
       "      <td>2.453524</td>\n",
       "    </tr>\n",
       "    <tr>\n",
       "      <th>4670</th>\n",
       "      <td>6394-HHHZM</td>\n",
       "      <td>Não</td>\n",
       "      <td>Masculino</td>\n",
       "      <td>0</td>\n",
       "      <td>Não</td>\n",
       "      <td>Não</td>\n",
       "      <td>3</td>\n",
       "      <td>Sim</td>\n",
       "      <td>Não</td>\n",
       "      <td>Não</td>\n",
       "      <td>...</td>\n",
       "      <td>Sem serviço de internet</td>\n",
       "      <td>Sem serviço de internet</td>\n",
       "      <td>Sem serviço de internet</td>\n",
       "      <td>Sem serviço de internet</td>\n",
       "      <td>Mês a mês</td>\n",
       "      <td>Não</td>\n",
       "      <td>Cheque por correio</td>\n",
       "      <td>20.70</td>\n",
       "      <td>57.50</td>\n",
       "      <td>0.638889</td>\n",
       "    </tr>\n",
       "    <tr>\n",
       "      <th>3064</th>\n",
       "      <td>4277-BWBML</td>\n",
       "      <td>Não</td>\n",
       "      <td>Masculino</td>\n",
       "      <td>0</td>\n",
       "      <td>Sim</td>\n",
       "      <td>Sim</td>\n",
       "      <td>72</td>\n",
       "      <td>Sim</td>\n",
       "      <td>Não</td>\n",
       "      <td>Não</td>\n",
       "      <td>...</td>\n",
       "      <td>Sem serviço de internet</td>\n",
       "      <td>Sem serviço de internet</td>\n",
       "      <td>Sem serviço de internet</td>\n",
       "      <td>Sem serviço de internet</td>\n",
       "      <td>Dois anos</td>\n",
       "      <td>Não</td>\n",
       "      <td>Transferência bancária (automática)</td>\n",
       "      <td>19.95</td>\n",
       "      <td>1322.85</td>\n",
       "      <td>0.612431</td>\n",
       "    </tr>\n",
       "    <tr>\n",
       "      <th>2905</th>\n",
       "      <td>4024-CSNBY</td>\n",
       "      <td>Não</td>\n",
       "      <td>Feminino</td>\n",
       "      <td>0</td>\n",
       "      <td>Sim</td>\n",
       "      <td>Não</td>\n",
       "      <td>72</td>\n",
       "      <td>Sim</td>\n",
       "      <td>Sim</td>\n",
       "      <td>Fibra ótica</td>\n",
       "      <td>...</td>\n",
       "      <td>Sim</td>\n",
       "      <td>Sim</td>\n",
       "      <td>Não</td>\n",
       "      <td>Não</td>\n",
       "      <td>Dois anos</td>\n",
       "      <td>Sim</td>\n",
       "      <td>Transferência bancária (automática)</td>\n",
       "      <td>94.25</td>\n",
       "      <td>6849.75</td>\n",
       "      <td>3.171181</td>\n",
       "    </tr>\n",
       "    <tr>\n",
       "      <th>7060</th>\n",
       "      <td>9722-UJOJR</td>\n",
       "      <td>Sim</td>\n",
       "      <td>Masculino</td>\n",
       "      <td>0</td>\n",
       "      <td>Sim</td>\n",
       "      <td>Sim</td>\n",
       "      <td>29</td>\n",
       "      <td>Sim</td>\n",
       "      <td>Não</td>\n",
       "      <td>Fibra ótica</td>\n",
       "      <td>...</td>\n",
       "      <td>Não</td>\n",
       "      <td>Não</td>\n",
       "      <td>Não</td>\n",
       "      <td>Não</td>\n",
       "      <td>Mês a mês</td>\n",
       "      <td>Sim</td>\n",
       "      <td>Cheque eletrônico</td>\n",
       "      <td>70.75</td>\n",
       "      <td>1974.80</td>\n",
       "      <td>2.269885</td>\n",
       "    </tr>\n",
       "  </tbody>\n",
       "</table>\n",
       "<p>5 rows × 22 columns</p>\n",
       "</div>"
      ],
      "text/plain": [
       "       clienteID Churn genero_cliente  mais_que_65_anos possui_parceiro_a  \\\n",
       "7136  9821-POOTN   Sim      Masculino                 0               Sim   \n",
       "4670  6394-HHHZM   Não      Masculino                 0               Não   \n",
       "3064  4277-BWBML   Não      Masculino                 0               Sim   \n",
       "2905  4024-CSNBY   Não       Feminino                 0               Sim   \n",
       "7060  9722-UJOJR   Sim      Masculino                 0               Sim   \n",
       "\n",
       "     possui_dependentes  meses_contrato servico_telefonico multiplas_linhas  \\\n",
       "7136                Não              35                Sim              Sim   \n",
       "4670                Não               3                Sim              Não   \n",
       "3064                Sim              72                Sim              Não   \n",
       "2905                Não              72                Sim              Sim   \n",
       "7060                Sim              29                Sim              Não   \n",
       "\n",
       "     servico_internet  ... assinatura_protecao_dispositivo  \\\n",
       "7136      Fibra ótica  ...                             Não   \n",
       "4670              Não  ...         Sem serviço de internet   \n",
       "3064              Não  ...         Sem serviço de internet   \n",
       "2905      Fibra ótica  ...                             Sim   \n",
       "7060      Fibra ótica  ...                             Não   \n",
       "\n",
       "           assinatura_suporte            assinatura_TV  \\\n",
       "7136                      Não                      Não   \n",
       "4670  Sem serviço de internet  Sem serviço de internet   \n",
       "3064  Sem serviço de internet  Sem serviço de internet   \n",
       "2905                      Sim                      Não   \n",
       "7060                      Não                      Não   \n",
       "\n",
       "         assinatura_streaming   contrato fatura_digital  \\\n",
       "7136                      Não  Mês a mês            Sim   \n",
       "4670  Sem serviço de internet  Mês a mês            Não   \n",
       "3064  Sem serviço de internet  Dois anos            Não   \n",
       "2905                      Não  Dois anos            Sim   \n",
       "7060                      Não  Mês a mês            Sim   \n",
       "\n",
       "                          forma_pagamento total_servicos_mes total_gasto  \\\n",
       "7136                    Cheque eletrônico              75.20     2576.20   \n",
       "4670                   Cheque por correio              20.70       57.50   \n",
       "3064  Transferência bancária (automática)              19.95     1322.85   \n",
       "2905  Transferência bancária (automática)              94.25     6849.75   \n",
       "7060                    Cheque eletrônico              70.75     1974.80   \n",
       "\n",
       "      gastos_diarios  \n",
       "7136        2.453524  \n",
       "4670        0.638889  \n",
       "3064        0.612431  \n",
       "2905        3.171181  \n",
       "7060        2.269885  \n",
       "\n",
       "[5 rows x 22 columns]"
      ]
     },
     "execution_count": 21,
     "metadata": {},
     "output_type": "execute_result"
    }
   ],
   "source": [
    "df_base_traduzido.drop('teste', axis = 1, inplace = True)\n",
    "\n",
    "df_base_traduzido['gastos_diarios'] = [df_base_traduzido.total_gasto[i] / (df_base_traduzido.meses_contrato[i] * 30) \n",
    "                             if df_base_traduzido.meses_contrato[i] > 0 \n",
    "                             else df_base_traduzido.total_gasto[i] / 30 \n",
    "                             for i in df_base_traduzido.index]\n",
    "\n",
    "df_base_traduzido.sample(5)"
   ]
  },
  {
   "cell_type": "markdown",
   "id": "3a5baf72",
   "metadata": {
    "id": "3a5baf72"
   },
   "source": [
    "### Validação de algumas colunas"
   ]
  },
  {
   "cell_type": "markdown",
   "id": "cc94b805",
   "metadata": {},
   "source": [
    "Após calcular o custo diário, inicia-se uma análise gráfica das colunas, afim de visualizar o comportamento das mesmas, seja individualmente ou comparando com a variável dependente (Churn).\n",
    "\n",
    "Para visualizações gráficas, iniciarei importante duas bibliotecas, o seaborn e o matplotlib"
   ]
  },
  {
   "cell_type": "code",
   "execution_count": 22,
   "id": "c5d15d2a",
   "metadata": {},
   "outputs": [],
   "source": [
    "import seaborn as sns\n",
    "import matplotlib.pyplot as plt"
   ]
  },
  {
   "cell_type": "markdown",
   "id": "aef12612",
   "metadata": {},
   "source": [
    "Resolvi iniciar pelas colunas de valores, verificar como fica a distribuição do total gasto, dos meses de contrato e dos gastos diários de acordo com o Churn, na tentativa de identificar algum padrão."
   ]
  },
  {
   "cell_type": "code",
   "execution_count": 23,
   "id": "8b74e15f",
   "metadata": {
    "id": "8b74e15f",
    "scrolled": false
   },
   "outputs": [
    {
     "data": {
      "image/png": "[encoded data removed]",
      "text/plain": [
       "<Figure size 864x576 with 1 Axes>"
      ]
     },
     "metadata": {
      "needs_background": "light"
     },
     "output_type": "display_data"
    }
   ],
   "source": [
    "fig, ax = plt.subplots(figsize=(12, 8))\n",
    "\n",
    "grafico = sns.boxplot(x = 'total_gasto', y = 'Churn', data = df_base_traduzido)\n",
    "grafico.set_title('Distribuição do total gasto de acordo com o Churn', fontsize = 20)\n",
    "\n",
    "plt.show()"
   ]
  },
  {
   "cell_type": "code",
   "execution_count": 24,
   "id": "45a374b2",
   "metadata": {},
   "outputs": [
    {
     "data": {
      "image/png": "[encoded data removed]",
      "text/plain": [
       "<Figure size 864x576 with 1 Axes>"
      ]
     },
     "metadata": {
      "needs_background": "light"
     },
     "output_type": "display_data"
    }
   ],
   "source": [
    "fig, ax = plt.subplots(figsize=(12, 8))\n",
    "\n",
    "grafico = sns.boxplot(x = 'meses_contrato', y = 'Churn', data = df_base_traduzido)\n",
    "grafico.set_title('Distribuição da quantidade de meses de contrato de acordo com o Churn', fontsize = 20)\n",
    "\n",
    "plt.show()"
   ]
  },
  {
   "cell_type": "code",
   "execution_count": 25,
   "id": "ffe2d3af",
   "metadata": {},
   "outputs": [
    {
     "data": {
      "image/png": "[encoded data removed]",
      "text/plain": [
       "<Figure size 864x576 with 1 Axes>"
      ]
     },
     "metadata": {
      "needs_background": "light"
     },
     "output_type": "display_data"
    }
   ],
   "source": [
    "fig, ax = plt.subplots(figsize=(12, 8))\n",
    "\n",
    "grafico = sns.boxplot(x = 'gastos_diarios', y = 'Churn', data = df_base_traduzido)\n",
    "grafico.set_title('Distribuição do gasto diário de acordo com o Churn', fontsize = 20)\n",
    "\n",
    "plt.show()"
   ]
  },
  {
   "cell_type": "code",
   "execution_count": null,
   "id": "0f2790c8",
   "metadata": {
    "id": "0f2790c8"
   },
   "outputs": [],
   "source": [
    "df_base.assinatura_protecao_dispositivo.unique()"
   ]
  },
  {
   "cell_type": "code",
   "execution_count": null,
   "id": "54d9e567",
   "metadata": {
    "id": "54d9e567"
   },
   "outputs": [],
   "source": [
    "df_base[df_base.multiplas_linhas == 'No phone service'].shape[0]"
   ]
  },
  {
   "cell_type": "code",
   "execution_count": null,
   "id": "eb5c10de",
   "metadata": {
    "id": "eb5c10de"
   },
   "outputs": [],
   "source": [
    "pd.crosstab(df_base.Churn, df_base.servico_internet)"
   ]
  },
  {
   "cell_type": "code",
   "execution_count": null,
   "id": "a93204f4",
   "metadata": {
    "id": "a93204f4",
    "scrolled": true
   },
   "outputs": [],
   "source": [
    "df_base.groupby('servico_internet').count()"
   ]
  },
  {
   "cell_type": "code",
   "execution_count": null,
   "id": "e3f4886b",
   "metadata": {
    "id": "e3f4886b"
   },
   "outputs": [],
   "source": [
    "df_base.groupby('assinatura_seguranca').count()"
   ]
  },
  {
   "cell_type": "code",
   "execution_count": null,
   "id": "2daadf1a",
   "metadata": {
    "id": "2daadf1a"
   },
   "outputs": [],
   "source": [
    "df_base.groupby('assinatura_backup').count()"
   ]
  },
  {
   "cell_type": "code",
   "execution_count": null,
   "id": "d12fea7f",
   "metadata": {
    "id": "d12fea7f"
   },
   "outputs": [],
   "source": [
    "df_base.groupby('assinatura_protecao_dispositivo').count()"
   ]
  },
  {
   "cell_type": "markdown",
   "id": "ad4b8580",
   "metadata": {
    "id": "ad4b8580"
   },
   "source": [
    "### Análise da variável target - Churn"
   ]
  },
  {
   "cell_type": "code",
   "execution_count": null,
   "id": "60552280",
   "metadata": {
    "id": "60552280"
   },
   "outputs": [],
   "source": [
    "df_base.Churn.value_counts()"
   ]
  },
  {
   "cell_type": "markdown",
   "id": "c8ea0486",
   "metadata": {
    "id": "c8ea0486"
   },
   "source": [
    "#### Avaliando por gênero"
   ]
  },
  {
   "cell_type": "code",
   "execution_count": null,
   "id": "cbdefc0d",
   "metadata": {
    "id": "cbdefc0d"
   },
   "outputs": [],
   "source": [
    "df_genero = pd.crosstab(df_base.Churn, df_base.genero_cliente)\n",
    "df_genero"
   ]
  },
  {
   "cell_type": "code",
   "execution_count": null,
   "id": "2abd15ec",
   "metadata": {
    "id": "2abd15ec"
   },
   "outputs": [],
   "source": [
    "df_base.groupby('genero_cliente')['Churn'].count()"
   ]
  },
  {
   "cell_type": "code",
   "execution_count": null,
   "id": "05c13e7b",
   "metadata": {
    "id": "05c13e7b",
    "scrolled": true
   },
   "outputs": [],
   "source": [
    "df_genero = pd.crosstab(df_base.Churn, df_base.genero_cliente)\n",
    "\n",
    "fig, ax = plt.subplots(figsize=(10, 8))\n",
    "\n",
    "grafico = ax.bar(x = 'Churn', height=df_base.Churn, data = df_base)\n",
    "\n",
    "for barra in grafico:\n",
    "  # Pegando a altura(valor) e largura de cada barra\n",
    "    altura = barra.get_height()\n",
    "    largura = barra.get_width()\n",
    "\n",
    "    '''\n",
    "      Posição x(xpos) e y(ypos) de cada barra. Aqui temos três casos de y pos:\n",
    "      1º - colocando o rótulo acima da barra\n",
    "      2º - colocando o rótulo no meio da barra\n",
    "      3º - colocando o rótulo na base da barra\n",
    "      Para selecionar o desejado, é só descomentar o ypos que quer fazer uso.\n",
    "    '''\n",
    "    xpos = barra.get_x() + largura/2\n",
    "    ypos = 1.01 * altura\n",
    "    # ypos = barra.get_y() + altura/2\n",
    "    # ypos = barra.get_y()\n",
    "\n",
    "    # Adicionando o rótulo nas barras (x= coordenada x, y = coordenada y, s = texto desejado)\n",
    "    ax.text(x = xpos, y = ypos, s = altura, ha='center', va='bottom', fontsize=14)"
   ]
  },
  {
   "cell_type": "code",
   "execution_count": null,
   "id": "c1c0fb48",
   "metadata": {
    "id": "c1c0fb48"
   },
   "outputs": [],
   "source": [
    "fig, ax = plt.subplots(figsize=(10, 8))\n",
    "\n",
    "# grafico = df_genero.plot(kind = 'bar')\n",
    "grafico = ax.bar(x = df_genero.columns, height=df_genero.loc['Yes'], data = df_genero)\n",
    "\n",
    "for barra in grafico:\n",
    "  # Pegando a altura(valor) e largura de cada barra\n",
    "    altura = barra.get_height()\n",
    "    largura = barra.get_width()\n",
    "\n",
    "    '''\n",
    "      Posição x(xpos) e y(ypos) de cada barra. Aqui temos três casos de y pos:\n",
    "      1º - colocando o rótulo acima da barra\n",
    "      2º - colocando o rótulo no meio da barra\n",
    "      3º - colocando o rótulo na base da barra\n",
    "      Para selecionar o desejado, é só descomentar o ypos que quer fazer uso.\n",
    "    '''\n",
    "    xpos = barra.get_x() + largura/2\n",
    "    ypos = 1.01 * altura\n",
    "    # ypos = barra.get_y() + altura/2\n",
    "    # ypos = barra.get_y()\n",
    "\n",
    "    # Adicionando o rótulo nas barras (x= coordenada x, y = coordenada y, s = texto desejado)\n",
    "    ax.text(x = xpos, y = ypos, s = altura, ha='center', va='bottom', fontsize=14)"
   ]
  },
  {
   "cell_type": "markdown",
   "id": "94b2a11d",
   "metadata": {
    "id": "94b2a11d"
   },
   "source": [
    "#### Se acima de 65 anos"
   ]
  },
  {
   "cell_type": "code",
   "execution_count": null,
   "id": "93c09bb9",
   "metadata": {
    "id": "93c09bb9"
   },
   "outputs": [],
   "source": [
    "df_analise = pd.crosstab(df_base.Churn, df_base.mais_que_65_anos.astype(str))\n",
    "\n",
    "fig, ax = plt.subplots(figsize=(10, 8))\n",
    "\n",
    "grafico = ax.bar(x = df_analise.columns, height=df_analise.loc['Yes'], data = df_analise.loc['Yes'])\n",
    "\n",
    "for barra in grafico:\n",
    "  # Pegando a altura(valor) e largura de cada barra\n",
    "    altura = barra.get_height()\n",
    "    largura = barra.get_width()\n",
    "\n",
    "    '''\n",
    "      Posição x(xpos) e y(ypos) de cada barra. Aqui temos três casos de y pos:\n",
    "      1º - colocando o rótulo acima da barra\n",
    "      2º - colocando o rótulo no meio da barra\n",
    "      3º - colocando o rótulo na base da barra\n",
    "      Para selecionar o desejado, é só descomentar o ypos que quer fazer uso.\n",
    "    '''\n",
    "    xpos = barra.get_x() + largura/2\n",
    "    ypos = 1.01 * altura\n",
    "    # ypos = barra.get_y() + altura/2\n",
    "    # ypos = barra.get_y()\n",
    "\n",
    "    # Adicionando o rótulo nas barras (x= coordenada x, y = coordenada y, s = texto desejado)\n",
    "    ax.text(x = xpos, y = ypos, s = altura, ha='center', va='bottom', fontsize=14)"
   ]
  },
  {
   "cell_type": "code",
   "execution_count": null,
   "id": "26f23bd5",
   "metadata": {
    "id": "26f23bd5"
   },
   "outputs": [],
   "source": []
  }
 ],
 "metadata": {
  "colab": {
   "include_colab_link": true,
   "name": "Challenge_Alura_DS.ipynb",
   "provenance": []
  },
  "kernelspec": {
   "display_name": "Python 3",
   "language": "python",
   "name": "python3"
  },
  "language_info": {
   "codemirror_mode": {
    "name": "ipython",
    "version": 3
   },
   "file_extension": ".py",
   "mimetype": "text/x-python",
   "name": "python",
   "nbconvert_exporter": "python",
   "pygments_lexer": "ipython3",
   "version": "3.8.8"
  }
 },
 "nbformat": 4,
 "nbformat_minor": 5
}
