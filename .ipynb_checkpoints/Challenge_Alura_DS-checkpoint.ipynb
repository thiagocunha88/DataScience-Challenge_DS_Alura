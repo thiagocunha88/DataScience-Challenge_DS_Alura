{
 "cells": [
  {
   "cell_type": "markdown",
   "id": "54837920",
   "metadata": {},
   "source": [
    "# Challenge Alura - Reduzir a taxa de evasão dos clientes (Churn Rate)\n",
    "## Analisar os clientes para identificar um padrão que determine aqueles que possuem maior chance de deixar de consumir o serviço, ou deixar de ser cliente da empresa\n",
    "\n",
    "## Para iniciar os estudos, inicia-se a importação das bibliotecas básicas para tal e o dataset a ser analisado, entendendo que o primeiro passo é entender os dados a serem utilizados."
   ]
  },
  {
   "cell_type": "markdown",
   "id": "7c4cd230",
   "metadata": {},
   "source": [
    "### Importando bibliotecas"
   ]
  },
  {
   "cell_type": "markdown",
   "id": "ccd52841",
   "metadata": {},
   "source": [
    "Para iniciar uma análise exploratória é necessário transformar e visualizar os dados.\n",
    "\n",
    "Foram selecionadas duas bibliotecas muito comuns e de bom desempenho para isto, o pandas e numpy.\n",
    "\n",
    "Posteriormente serão importadas outras bibliotecas, principalmente quando forem geradas visualizações gráficas, mas isso pode aguardar."
   ]
  },
  {
   "cell_type": "code",
   "execution_count": 1,
   "id": "76d58795",
   "metadata": {},
   "outputs": [],
   "source": [
    "import pandas as pd\n",
    "import numpy as np"
   ]
  },
  {
   "cell_type": "markdown",
   "id": "caf2bd9c",
   "metadata": {},
   "source": [
    "### Importando o dataset e tendo a primeira visualização\n",
    "Como a base dados a ser estudada está em formato json, optei por utilizar o pd.read_json() para fazer a leitura, principalmente porque apresenta os dados em formato tabular, facilitando as primeiras impressões e possibilitando nortear os próximos passos."
   ]
  },
  {
   "cell_type": "code",
   "execution_count": 2,
   "id": "cfe01b73",
   "metadata": {
    "scrolled": true
   },
   "outputs": [
    {
     "data": {
      "text/html": [
       "<div>\n",
       "<style scoped>\n",
       "    .dataframe tbody tr th:only-of-type {\n",
       "        vertical-align: middle;\n",
       "    }\n",
       "\n",
       "    .dataframe tbody tr th {\n",
       "        vertical-align: top;\n",
       "    }\n",
       "\n",
       "    .dataframe thead th {\n",
       "        text-align: right;\n",
       "    }\n",
       "</style>\n",
       "<table border=\"1\" class=\"dataframe\">\n",
       "  <thead>\n",
       "    <tr style=\"text-align: right;\">\n",
       "      <th></th>\n",
       "      <th>customerID</th>\n",
       "      <th>Churn</th>\n",
       "      <th>customer</th>\n",
       "      <th>phone</th>\n",
       "      <th>internet</th>\n",
       "      <th>account</th>\n",
       "    </tr>\n",
       "  </thead>\n",
       "  <tbody>\n",
       "    <tr>\n",
       "      <th>0</th>\n",
       "      <td>0002-ORFBO</td>\n",
       "      <td>No</td>\n",
       "      <td>{'gender': 'Female', 'SeniorCitizen': 0, 'Part...</td>\n",
       "      <td>{'PhoneService': 'Yes', 'MultipleLines': 'No'}</td>\n",
       "      <td>{'InternetService': 'DSL', 'OnlineSecurity': '...</td>\n",
       "      <td>{'Contract': 'One year', 'PaperlessBilling': '...</td>\n",
       "    </tr>\n",
       "    <tr>\n",
       "      <th>1</th>\n",
       "      <td>0003-MKNFE</td>\n",
       "      <td>No</td>\n",
       "      <td>{'gender': 'Male', 'SeniorCitizen': 0, 'Partne...</td>\n",
       "      <td>{'PhoneService': 'Yes', 'MultipleLines': 'Yes'}</td>\n",
       "      <td>{'InternetService': 'DSL', 'OnlineSecurity': '...</td>\n",
       "      <td>{'Contract': 'Month-to-month', 'PaperlessBilli...</td>\n",
       "    </tr>\n",
       "  </tbody>\n",
       "</table>\n",
       "</div>"
      ],
      "text/plain": [
       "   customerID Churn                                           customer  \\\n",
       "0  0002-ORFBO    No  {'gender': 'Female', 'SeniorCitizen': 0, 'Part...   \n",
       "1  0003-MKNFE    No  {'gender': 'Male', 'SeniorCitizen': 0, 'Partne...   \n",
       "\n",
       "                                             phone  \\\n",
       "0   {'PhoneService': 'Yes', 'MultipleLines': 'No'}   \n",
       "1  {'PhoneService': 'Yes', 'MultipleLines': 'Yes'}   \n",
       "\n",
       "                                            internet  \\\n",
       "0  {'InternetService': 'DSL', 'OnlineSecurity': '...   \n",
       "1  {'InternetService': 'DSL', 'OnlineSecurity': '...   \n",
       "\n",
       "                                             account  \n",
       "0  {'Contract': 'One year', 'PaperlessBilling': '...  \n",
       "1  {'Contract': 'Month-to-month', 'PaperlessBilli...  "
      ]
     },
     "metadata": {},
     "output_type": "display_data"
    }
   ],
   "source": [
    "df = pd.read_json('https://raw.githubusercontent.com/sthemonica/alura-voz/main/Dados/Telco-Customer-Churn.json')\n",
    "display(df.head(2))"
   ]
  },
  {
   "cell_type": "markdown",
   "id": "b444902c",
   "metadata": {},
   "source": [
    "Os dados importados geraram uma tabela, porém, a mesma apresenta colunas ainda em formato json, dificultando o entendimento e impossibilitando análises estatísticas básicas de maneira simples.\n",
    "\n",
    "Sendo assim, será necessário iniciar a transformação dos dados."
   ]
  },
  {
   "cell_type": "markdown",
   "id": "cb7a9498",
   "metadata": {},
   "source": [
    "#### Transformando os dados de json para dataframe pandas.\n",
    "Todas as colunas a partir da Churn estavam em formato json ainda, dificultando a visualização completa bem como cálculos e análises a serem realizados.\n",
    "\n",
    "Foi efetuada a conversão dos dados, primeiramente, criando dataframes separados para cada coluna a ser tratada (customer, phone, internet e account), utilizando a função pd.json_normalize().\n",
    "\n",
    "Na coluna account foi necessário uma atenção maior, já que havia uma cadeia de json (Charges), situação que foi tratada pela função pd.json_normalize()."
   ]
  },
  {
   "cell_type": "code",
   "execution_count": 3,
   "id": "b871cc6b",
   "metadata": {},
   "outputs": [],
   "source": [
    "# Separando valores que estão em formato json, e retornando para o dataframe\n",
    "customer = pd.json_normalize(df.customer)\n",
    "phone = pd.json_normalize(df.phone)\n",
    "internet = pd.json_normalize(df.internet)\n",
    "account = pd.json_normalize(df.account)\n",
    "df_base = pd.concat([df.customerID, df.Churn, customer, phone, internet, account], axis = 1)"
   ]
  },
  {
   "cell_type": "markdown",
   "id": "af8fb95b",
   "metadata": {},
   "source": [
    "### Fazendo a tradução dos cabeçalhos"
   ]
  },
  {
   "cell_type": "code",
   "execution_count": null,
   "id": "026274e5",
   "metadata": {
    "scrolled": true
   },
   "outputs": [],
   "source": [
    "# Traduzindo nomes das colunas manualmente\n",
    "df_base.columns = ['clienteID', \n",
    "                   'Churn', \n",
    "                   'genero_cliente', \n",
    "                   'mais_que_65_anos', \n",
    "                   'possui_parceiro_a', \n",
    "                  'possui_dependentes', \n",
    "                  'meses_contrato',\n",
    "                  'servico_telefonico',\n",
    "                  'multiplas_linhas',\n",
    "                  'servico_internet',\n",
    "                  'assinatura_seguranca',\n",
    "                  'assinatura_backup',\n",
    "                  'assinatura_protecao_dispositivo',\n",
    "                  'assinatura_suporte',\n",
    "                  'assinatura_TV',\n",
    "                  'assinatura_streaming',\n",
    "                  'contrato',\n",
    "                  'fatura_digital',\n",
    "                  'forma_pagamento',\n",
    "                  'total_servicos_mes',\n",
    "                  'total_gasto']\n",
    "\n",
    "# Traduzindo valores de dentro da tabela\n",
    "# df_base.replace(['Yes', 'No', 'Female', 'Male'], [1, 0, 1, 0], inplace=True)\n",
    "\n",
    "# Excluindo linhas com dados vazios na coluna Churn\n",
    "df_base.drop(df_base[df_base.Churn == ''].index, inplace = True)\n",
    "df_base.reset_index()\n",
    "\n",
    "# Substituindo valores vazios por 0 na coluna total_gasto\n",
    "df_base.total_gasto .replace(' ', 0, inplace = True)\n",
    "\n",
    "# Convertendo coluna total_gasto para float\n",
    "df_base.total_gasto = df_base.total_gasto.apply(pd.to_numeric)\n",
    "\n",
    "# Criando coluna gastos_diarios, quando meses_contrato < 0, usar coluna total_servicos_mes,\n",
    "# quando meses_contrato > 0 considera total_gasto\n",
    "df_base['gastos_diarios'] = [df_base.total_gasto[i] / (df_base.meses_contrato[i] * 30) \n",
    "                             if df_base.meses_contrato[i] > 0 \n",
    "                             else df_base.total_servicos_mes[i] / 30 \n",
    "                             for i in df_base.index]\n",
    "\n",
    "df_base.head(2)"
   ]
  },
  {
   "cell_type": "markdown",
   "id": "8e0dced0",
   "metadata": {},
   "source": [
    "# Semana 2"
   ]
  },
  {
   "cell_type": "markdown",
   "id": "3a5baf72",
   "metadata": {},
   "source": [
    "### Validação de algumas colunas"
   ]
  },
  {
   "cell_type": "code",
   "execution_count": null,
   "id": "8b74e15f",
   "metadata": {},
   "outputs": [],
   "source": [
    "df_base.columns"
   ]
  },
  {
   "cell_type": "code",
   "execution_count": null,
   "id": "0f2790c8",
   "metadata": {},
   "outputs": [],
   "source": [
    "df_base.assinatura_protecao_dispositivo.unique()"
   ]
  },
  {
   "cell_type": "code",
   "execution_count": null,
   "id": "54d9e567",
   "metadata": {},
   "outputs": [],
   "source": [
    "df_base[df_base.multiplas_linhas == 'No phone service'].shape[0]"
   ]
  },
  {
   "cell_type": "code",
   "execution_count": null,
   "id": "eb5c10de",
   "metadata": {},
   "outputs": [],
   "source": [
    "pd.crosstab(df_base.Churn, df_base.servico_internet)"
   ]
  },
  {
   "cell_type": "code",
   "execution_count": null,
   "id": "a93204f4",
   "metadata": {
    "scrolled": true
   },
   "outputs": [],
   "source": [
    "df_base.groupby('servico_internet').count()"
   ]
  },
  {
   "cell_type": "code",
   "execution_count": null,
   "id": "e3f4886b",
   "metadata": {},
   "outputs": [],
   "source": [
    "df_base.groupby('assinatura_seguranca').count()"
   ]
  },
  {
   "cell_type": "code",
   "execution_count": null,
   "id": "2daadf1a",
   "metadata": {},
   "outputs": [],
   "source": [
    "df_base.groupby('assinatura_backup').count()"
   ]
  },
  {
   "cell_type": "code",
   "execution_count": null,
   "id": "d12fea7f",
   "metadata": {},
   "outputs": [],
   "source": [
    "df_base.groupby('assinatura_protecao_dispositivo').count()"
   ]
  },
  {
   "cell_type": "markdown",
   "id": "ad4b8580",
   "metadata": {},
   "source": [
    "### Análise da variável target - Churn"
   ]
  },
  {
   "cell_type": "code",
   "execution_count": null,
   "id": "e6e051e4",
   "metadata": {},
   "outputs": [],
   "source": [
    "import matplotlib.pyplot as plt\n",
    "import seaborn as sns"
   ]
  },
  {
   "cell_type": "code",
   "execution_count": null,
   "id": "60552280",
   "metadata": {},
   "outputs": [],
   "source": [
    "df_base.Churn.value_counts()"
   ]
  },
  {
   "cell_type": "markdown",
   "id": "c8ea0486",
   "metadata": {},
   "source": [
    "#### Avaliando por gênero"
   ]
  },
  {
   "cell_type": "code",
   "execution_count": null,
   "id": "cbdefc0d",
   "metadata": {},
   "outputs": [],
   "source": [
    "df_genero = pd.crosstab(df_base.Churn, df_base.genero_cliente)\n",
    "df_genero"
   ]
  },
  {
   "cell_type": "code",
   "execution_count": null,
   "id": "2abd15ec",
   "metadata": {},
   "outputs": [],
   "source": [
    "df_base.groupby('genero_cliente')['Churn'].count()"
   ]
  },
  {
   "cell_type": "code",
   "execution_count": null,
   "id": "05c13e7b",
   "metadata": {
    "scrolled": true
   },
   "outputs": [],
   "source": [
    "df_genero = pd.crosstab(df_base.Churn, df_base.genero_cliente)\n",
    "\n",
    "fig, ax = plt.subplots(figsize=(10, 8))\n",
    "\n",
    "grafico = ax.bar(x = 'Churn', height=df_base.Churn, data = df_base)\n",
    "\n",
    "for barra in grafico:\n",
    "  # Pegando a altura(valor) e largura de cada barra\n",
    "    altura = barra.get_height()\n",
    "    largura = barra.get_width()\n",
    "\n",
    "    '''\n",
    "      Posição x(xpos) e y(ypos) de cada barra. Aqui temos três casos de y pos:\n",
    "      1º - colocando o rótulo acima da barra\n",
    "      2º - colocando o rótulo no meio da barra\n",
    "      3º - colocando o rótulo na base da barra\n",
    "      Para selecionar o desejado, é só descomentar o ypos que quer fazer uso.\n",
    "    '''\n",
    "    xpos = barra.get_x() + largura/2\n",
    "    ypos = 1.01 * altura\n",
    "    # ypos = barra.get_y() + altura/2\n",
    "    # ypos = barra.get_y()\n",
    "\n",
    "    # Adicionando o rótulo nas barras (x= coordenada x, y = coordenada y, s = texto desejado)\n",
    "    ax.text(x = xpos, y = ypos, s = altura, ha='center', va='bottom', fontsize=14)"
   ]
  },
  {
   "cell_type": "code",
   "execution_count": null,
   "id": "c1c0fb48",
   "metadata": {},
   "outputs": [],
   "source": [
    "fig, ax = plt.subplots(figsize=(10, 8))\n",
    "\n",
    "# grafico = df_genero.plot(kind = 'bar')\n",
    "grafico = ax.bar(x = df_genero.columns, height=df_genero.loc['Yes'], data = df_genero)\n",
    "\n",
    "for barra in grafico:\n",
    "  # Pegando a altura(valor) e largura de cada barra\n",
    "    altura = barra.get_height()\n",
    "    largura = barra.get_width()\n",
    "\n",
    "    '''\n",
    "      Posição x(xpos) e y(ypos) de cada barra. Aqui temos três casos de y pos:\n",
    "      1º - colocando o rótulo acima da barra\n",
    "      2º - colocando o rótulo no meio da barra\n",
    "      3º - colocando o rótulo na base da barra\n",
    "      Para selecionar o desejado, é só descomentar o ypos que quer fazer uso.\n",
    "    '''\n",
    "    xpos = barra.get_x() + largura/2\n",
    "    ypos = 1.01 * altura\n",
    "    # ypos = barra.get_y() + altura/2\n",
    "    # ypos = barra.get_y()\n",
    "\n",
    "    # Adicionando o rótulo nas barras (x= coordenada x, y = coordenada y, s = texto desejado)\n",
    "    ax.text(x = xpos, y = ypos, s = altura, ha='center', va='bottom', fontsize=14)"
   ]
  },
  {
   "cell_type": "markdown",
   "id": "94b2a11d",
   "metadata": {},
   "source": [
    "#### Se acima de 65 anos"
   ]
  },
  {
   "cell_type": "code",
   "execution_count": null,
   "id": "93c09bb9",
   "metadata": {},
   "outputs": [],
   "source": [
    "df_analise = pd.crosstab(df_base.Churn, df_base.mais_que_65_anos.astype(str))\n",
    "\n",
    "fig, ax = plt.subplots(figsize=(10, 8))\n",
    "\n",
    "grafico = ax.bar(x = df_analise.columns, height=df_analise.loc['Yes'], data = df_analise.loc['Yes'])\n",
    "\n",
    "for barra in grafico:\n",
    "  # Pegando a altura(valor) e largura de cada barra\n",
    "    altura = barra.get_height()\n",
    "    largura = barra.get_width()\n",
    "\n",
    "    '''\n",
    "      Posição x(xpos) e y(ypos) de cada barra. Aqui temos três casos de y pos:\n",
    "      1º - colocando o rótulo acima da barra\n",
    "      2º - colocando o rótulo no meio da barra\n",
    "      3º - colocando o rótulo na base da barra\n",
    "      Para selecionar o desejado, é só descomentar o ypos que quer fazer uso.\n",
    "    '''\n",
    "    xpos = barra.get_x() + largura/2\n",
    "    ypos = 1.01 * altura\n",
    "    # ypos = barra.get_y() + altura/2\n",
    "    # ypos = barra.get_y()\n",
    "\n",
    "    # Adicionando o rótulo nas barras (x= coordenada x, y = coordenada y, s = texto desejado)\n",
    "    ax.text(x = xpos, y = ypos, s = altura, ha='center', va='bottom', fontsize=14)"
   ]
  },
  {
   "cell_type": "code",
   "execution_count": null,
   "id": "26f23bd5",
   "metadata": {},
   "outputs": [],
   "source": []
  }
 ],
 "metadata": {
  "kernelspec": {
   "display_name": "Python 3",
   "language": "python",
   "name": "python3"
  },
  "language_info": {
   "codemirror_mode": {
    "name": "ipython",
    "version": 3
   },
   "file_extension": ".py",
   "mimetype": "text/x-python",
   "name": "python",
   "nbconvert_exporter": "python",
   "pygments_lexer": "ipython3",
   "version": "3.8.8"
  }
 },
 "nbformat": 4,
 "nbformat_minor": 5
}
